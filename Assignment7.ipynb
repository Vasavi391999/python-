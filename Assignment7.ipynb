{
  "nbformat": 4,
  "nbformat_minor": 0,
  "metadata": {
    "colab": {
      "provenance": []
    },
    "kernelspec": {
      "name": "python3",
      "display_name": "Python 3"
    },
    "language_info": {
      "name": "python"
    }
  },
  "cells": [
    {
      "cell_type": "markdown",
      "source": [
        "1. Create two int type variables, apply addition, subtraction, division and multiplications\n",
        "and store the results in variables. Then print the data in the following format by calling the\n",
        "variables:\n",
        "First variable is __ & second variable is __.\n",
        "Addition: __ + __ = __\n",
        "Subtraction: __ - __ = __\n",
        "Multiplication: __ * __ = __\n",
        "Division: __ / __ = __\n"
      ],
      "metadata": {
        "id": "WHmW3EJ3gyHK"
      }
    },
    {
      "cell_type": "code",
      "source": [
        "def calculator():\n",
        "  num_1 = int(input('enter first number',))\n",
        "  print(\"the first number is:\",num_1)\n",
        "  num_2 = int(input('enter second number',))\n",
        "  print(\"the second number is:\",num_2)\n",
        "  # addition\n",
        "  result = num_1 + num_2\n",
        "  print(\"the sum of two numbers is:\", result)\n",
        "  # subtraction\n",
        "  result = num_1 - num_2\n",
        "  print(\"the difference between two numbers is:\", result)\n",
        "  # multiplication\n",
        "  result = num_1 * num_2\n",
        "  print(\"the multiplication of two numbers is :\", result)\n",
        "  # division\n",
        "  result = num_1 / num_2\n",
        "  print(\"division of two numbers is:\", result)\n",
        "calculator()"
      ],
      "metadata": {
        "colab": {
          "base_uri": "https://localhost:8080/"
        },
        "id": "6cTts7I3iCQx",
        "outputId": "d9486c6f-ef8c-4208-bfce-83cfc8693dd3"
      },
      "execution_count": 12,
      "outputs": [
        {
          "output_type": "stream",
          "name": "stdout",
          "text": [
            "enter first number30\n",
            "the first number is: 30\n",
            "enter second number20\n",
            "the second number is: 20\n",
            "the sum of two numbers is: 50\n",
            "the difference between two numbers is: 10\n",
            "the multiplication of two numbers is : 600\n",
            "division of two numbers is: 1.5\n"
          ]
        }
      ]
    },
    {
      "cell_type": "markdown",
      "source": [
        "2. What is the difference between the following operators:\n",
        "(i) ‘/’ & ‘//’\n",
        "(ii) ‘**’ & ‘^’\n",
        "\n",
        "Ans: single slash carries out float division , the output remains float even if input is integer value.\n",
        "\n"
      ],
      "metadata": {
        "id": "h33hS2Yqlmi6"
      }
    },
    {
      "cell_type": "code",
      "source": [
        "x = 15\n",
        "y = 6\n",
        "print(x / y)"
      ],
      "metadata": {
        "colab": {
          "base_uri": "https://localhost:8080/"
        },
        "id": "aaHf6E0fmmIh",
        "outputId": "55a153fc-7234-4510-c7e0-e4a273ea572a"
      },
      "execution_count": 13,
      "outputs": [
        {
          "output_type": "stream",
          "name": "stdout",
          "text": [
            "2.5\n"
          ]
        }
      ]
    },
    {
      "cell_type": "markdown",
      "source": [
        "The ‘//’ double slash carries out integer division which is also known as floor division. The output of this operator will be the quotient rounded off to the closest whole number"
      ],
      "metadata": {
        "id": "p8cSQv2Cm2UQ"
      }
    },
    {
      "cell_type": "code",
      "source": [
        "x = 15\n",
        "y = 6\n",
        "print(x // y)"
      ],
      "metadata": {
        "colab": {
          "base_uri": "https://localhost:8080/"
        },
        "id": "ZxlPklPznA8M",
        "outputId": "a9d8ad4c-3c01-40df-b77f-89b48b82f9e5"
      },
      "execution_count": 14,
      "outputs": [
        {
          "output_type": "stream",
          "name": "stdout",
          "text": [
            "2\n"
          ]
        }
      ]
    },
    {
      "cell_type": "markdown",
      "source": [
        "To perform exponential calculations '**' operator is used"
      ],
      "metadata": {
        "id": "bzv6AA-xnI-p"
      }
    },
    {
      "cell_type": "code",
      "source": [
        "x = 15\n",
        "y = 6\n",
        "print(x ** y)"
      ],
      "metadata": {
        "colab": {
          "base_uri": "https://localhost:8080/"
        },
        "id": "rJ4WaAcsoi2u",
        "outputId": "7596c917-8aee-4785-8f28-9f0b1905682a"
      },
      "execution_count": 15,
      "outputs": [
        {
          "output_type": "stream",
          "name": "stdout",
          "text": [
            "11390625\n"
          ]
        }
      ]
    },
    {
      "cell_type": "markdown",
      "source": [
        "This operator performs bit by bit exclusive OR operations on the values on either side of the operator.\n"
      ],
      "metadata": {
        "id": "vG24nBHPowzv"
      }
    },
    {
      "cell_type": "code",
      "source": [
        "x = 15\n",
        "y = 6\n",
        "print(x ^ y)"
      ],
      "metadata": {
        "colab": {
          "base_uri": "https://localhost:8080/"
        },
        "id": "yw6_pINDo2Zl",
        "outputId": "85a28265-094c-4031-e065-8e3aae6c79e1"
      },
      "execution_count": 16,
      "outputs": [
        {
          "output_type": "stream",
          "name": "stdout",
          "text": [
            "9\n"
          ]
        }
      ]
    },
    {
      "cell_type": "markdown",
      "source": [
        "3. List the logical operators.\n",
        "\n",
        "Ans: logical operators in python are\n",
        "\n",
        "AND, OR, NOT"
      ],
      "metadata": {
        "id": "WRoGX05to_1h"
      }
    },
    {
      "cell_type": "code",
      "source": [
        "# Logical AND operator: AND operator returns the logical value ‘True’ when two Operands are true; otherwise, it will return False.\n",
        "a = True\n",
        "b = True\n",
        "print(a and b)"
      ],
      "metadata": {
        "colab": {
          "base_uri": "https://localhost:8080/"
        },
        "id": "_jc_PgpOpam1",
        "outputId": "4772ce67-2ba8-40dc-e052-871cb1411e34"
      },
      "execution_count": 19,
      "outputs": [
        {
          "output_type": "stream",
          "name": "stdout",
          "text": [
            "True\n"
          ]
        }
      ]
    },
    {
      "cell_type": "code",
      "source": [
        "# Logical OR operator:  Logical OR operator, if any one of the two operands are non zero, then it returns the True condition.\n",
        "a = True\n",
        "b = False\n",
        "print(a or b)"
      ],
      "metadata": {
        "colab": {
          "base_uri": "https://localhost:8080/"
        },
        "id": "rSV3pzCTqOqA",
        "outputId": "ef8ab4f2-45e5-4491-8a68-2ce11a62b717"
      },
      "execution_count": 20,
      "outputs": [
        {
          "output_type": "stream",
          "name": "stdout",
          "text": [
            "True\n"
          ]
        }
      ]
    },
    {
      "cell_type": "code",
      "source": [
        "# Logical Not: Logical NOT is used to reverse the logical state of its operands.\n",
        "a = True\n",
        "b = False\n",
        "print(not a)"
      ],
      "metadata": {
        "colab": {
          "base_uri": "https://localhost:8080/"
        },
        "id": "RK7BCNVTqvM5",
        "outputId": "9797a2e5-00e2-46f3-dba2-433b6af77d93"
      },
      "execution_count": 21,
      "outputs": [
        {
          "output_type": "stream",
          "name": "stdout",
          "text": [
            "False\n"
          ]
        }
      ]
    },
    {
      "cell_type": "markdown",
      "source": [
        "4. Explain right shift operator and left shift operator with examples.\n"
      ],
      "metadata": {
        "id": "KsjgC3GUq_UZ"
      }
    },
    {
      "cell_type": "code",
      "source": [
        "# right shift operator which moves the bits of an integer or enumeration type expression to the right\n",
        "a = 10\n",
        "result = a >> 2\n",
        "print(result)"
      ],
      "metadata": {
        "colab": {
          "base_uri": "https://localhost:8080/"
        },
        "id": "JO2-TvnKrXhV",
        "outputId": "c894a93b-370c-4ab0-e1a7-901abaeeb8ca"
      },
      "execution_count": 22,
      "outputs": [
        {
          "output_type": "stream",
          "name": "stdout",
          "text": [
            "2\n"
          ]
        }
      ]
    },
    {
      "cell_type": "code",
      "source": [
        "# left shift operator which moves the bits to the left.\n",
        "a = 10\n",
        "result = a << 2\n",
        "print(result)"
      ],
      "metadata": {
        "colab": {
          "base_uri": "https://localhost:8080/"
        },
        "id": "HLSBqDNnrtuR",
        "outputId": "45cfa401-f1ef-4c8e-cff8-e7eb2783d426"
      },
      "execution_count": 23,
      "outputs": [
        {
          "output_type": "stream",
          "name": "stdout",
          "text": [
            "40\n"
          ]
        }
      ]
    },
    {
      "cell_type": "markdown",
      "source": [
        "5. Create a list containing int type data of length 15. Then write a code to check if 10 is\n",
        "present in the list or not."
      ],
      "metadata": {
        "id": "RjzI0oqNr-De"
      }
    },
    {
      "cell_type": "code",
      "source": [
        "list = [1, 2, 3, 4, 5, 6, 7, 8, 9, 10, 11, 12, 13, 14, 15]\n",
        "i = 10\n",
        "if i in list:\n",
        "  print('exist')\n",
        "else:\n",
        "  print('does not exist')"
      ],
      "metadata": {
        "colab": {
          "base_uri": "https://localhost:8080/"
        },
        "id": "nhiE3Xipso_Q",
        "outputId": "572e914e-0855-425c-f621-129bcde42991"
      },
      "execution_count": 24,
      "outputs": [
        {
          "output_type": "stream",
          "name": "stdout",
          "text": [
            "exist\n"
          ]
        }
      ]
    }
  ]
}