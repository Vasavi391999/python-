{
  "nbformat": 4,
  "nbformat_minor": 0,
  "metadata": {
    "colab": {
      "provenance": []
    },
    "kernelspec": {
      "name": "python3",
      "display_name": "Python 3"
    },
    "language_info": {
      "name": "python"
    }
  },
  "cells": [
    {
      "cell_type": "markdown",
      "source": [
        "1. What is a lambda function in Python, and how does it differ from a regular function?\n",
        "\n",
        "Ans: Lambda Function, often known as an 'Anonymous Function,' is the same as a normal Python function except that it can be defined without a name. The def keyword is used to define normal functions, while the lambda keyword is used to define anonymous functions. They are, however, limited to a single line of expression. They, like regular functions, can accept several parameters\n",
        "Lambda functions can be used wherever function objects are necessary.\n",
        "\n",
        "You must remember that lambda functions are syntactically limited to a single expression.\n",
        "\n",
        "Aside from other types of expressions in functions, it has a variety of purposes in specific domains of programming."
      ],
      "metadata": {
        "id": "ZvQSmCiZ2fze"
      }
    },
    {
      "cell_type": "code",
      "source": [
        "square = lambda x: x ** 2\n",
        "print(square(31))"
      ],
      "metadata": {
        "colab": {
          "base_uri": "https://localhost:8080/"
        },
        "id": "-QAO5UfW3Wcl",
        "outputId": "389d5522-e269-46cf-f1b5-590545bcc957"
      },
      "execution_count": 1,
      "outputs": [
        {
          "output_type": "stream",
          "name": "stdout",
          "text": [
            "961\n"
          ]
        }
      ]
    },
    {
      "cell_type": "markdown",
      "source": [
        "2. Can a lambda function in Python have multiple arguments? If yes, how can you define and use\n",
        "them?\n",
        "\n",
        "Ans: yes lambda function in python have multiple arguments we define them by using required number of parameters after lambda keyword"
      ],
      "metadata": {
        "id": "X7ItwBv63siF"
      }
    },
    {
      "cell_type": "code",
      "source": [
        "product = lambda x, y: x * y\n",
        "num1 = 20\n",
        "num2 = 30\n",
        "result = product(num1,num2)\n",
        "print(f\"Product of {num1} and {num2} is {result}.\")"
      ],
      "metadata": {
        "colab": {
          "base_uri": "https://localhost:8080/"
        },
        "id": "KIGfunEG5h0G",
        "outputId": "b559e10a-4bc4-4fb1-ff64-6f532a795462"
      },
      "execution_count": 2,
      "outputs": [
        {
          "output_type": "stream",
          "name": "stdout",
          "text": [
            "Product of 20 and 30 is 600.\n"
          ]
        }
      ]
    },
    {
      "cell_type": "markdown",
      "source": [
        "3. How are lambda functions typically used in Python? Provide an example use case.\n"
      ],
      "metadata": {
        "id": "C52vK3BM50M0"
      }
    },
    {
      "cell_type": "code",
      "source": [
        "# A lambda function is typically used to define the filtering logic and is passed as the first argument of filter()\n",
        "mylist = [2,3,4,5,6,7,8,9,10]\n",
        "list_new  = list(filter(lambda x : (x%2==0), mylist))\n",
        "print(list_new)"
      ],
      "metadata": {
        "colab": {
          "base_uri": "https://localhost:8080/"
        },
        "id": "bxRdNSAj7qCE",
        "outputId": "a2c8fa6a-c3d5-4f0b-deab-d9736f8a3956"
      },
      "execution_count": 3,
      "outputs": [
        {
          "output_type": "stream",
          "name": "stdout",
          "text": [
            "[2, 4, 6, 8, 10]\n"
          ]
        }
      ]
    },
    {
      "cell_type": "code",
      "source": [
        "# map() function applies a given function to all the itmes in a list and returns the result.\n",
        "mylist = [2,3,4,5,6,7,8,9,10]\n",
        "list_new  = list(map(lambda x : x%2, mylist))\n",
        "print(list_new)"
      ],
      "metadata": {
        "colab": {
          "base_uri": "https://localhost:8080/"
        },
        "id": "upodP-tw79sI",
        "outputId": "566b08b1-32ed-4208-a4f7-ddf1bd0aa77b"
      },
      "execution_count": 4,
      "outputs": [
        {
          "output_type": "stream",
          "name": "stdout",
          "text": [
            "[0, 1, 0, 1, 0, 1, 0, 1, 0]\n"
          ]
        }
      ]
    },
    {
      "cell_type": "code",
      "source": [
        "# reduce() function performs a repetitive operation over the pairs of the elements in the list.\n",
        "from functools import reduce\n",
        "list1 = [1,2,3,4,5,6,7,8,9]\n",
        "sum = reduce((lambda x,y: x+y), list1)\n",
        "print(sum)"
      ],
      "metadata": {
        "colab": {
          "base_uri": "https://localhost:8080/"
        },
        "id": "kp2KekRV8SzM",
        "outputId": "21e40708-4594-4918-fafe-fb788028d2dd"
      },
      "execution_count": 5,
      "outputs": [
        {
          "output_type": "stream",
          "name": "stdout",
          "text": [
            "45\n"
          ]
        }
      ]
    },
    {
      "cell_type": "markdown",
      "source": [
        "4. What are the advantages and limitations of lambda functions compared to regular functions in\n",
        "Python?\n",
        "\n",
        "Ans:Advantages of lambda function:\n",
        "The code is simple and clear.\n",
        "\n",
        "No additional variables are added\n",
        "\n",
        "Limitations of lambda function: The maximum time a function can run is 15 minutes, and the default timeout is 3 seconds. Obviously, this makes Lambda unsuitable for long-running workloads"
      ],
      "metadata": {
        "id": "K_CePAJ88peA"
      }
    },
    {
      "cell_type": "markdown",
      "source": [
        "5. Are lambda functions in Python able to access variables defined outside of their own scope?\n",
        "Explain with an example.\n",
        "\n",
        "Ans: Lambda functions have their own local namespace and cannot access variables other than those in their parameter list and those in the global namespace."
      ],
      "metadata": {
        "id": "kZ6KFxbo-XDe"
      }
    },
    {
      "cell_type": "markdown",
      "source": [
        "6. Write a lambda function to calculate the square of a given number."
      ],
      "metadata": {
        "id": "tFR4QHzg_pDW"
      }
    },
    {
      "cell_type": "code",
      "source": [
        "square = lambda x: x ** 2\n",
        "print(square(17))"
      ],
      "metadata": {
        "colab": {
          "base_uri": "https://localhost:8080/"
        },
        "id": "T-V5ADR3_zkP",
        "outputId": "cbe23aa5-fa7f-4d31-c3f0-52cec7f1bd01"
      },
      "execution_count": 6,
      "outputs": [
        {
          "output_type": "stream",
          "name": "stdout",
          "text": [
            "289\n"
          ]
        }
      ]
    },
    {
      "cell_type": "markdown",
      "source": [
        "7. Create a lambda function to find the maximum value in a list of integers."
      ],
      "metadata": {
        "id": "ZKWcfODVAD4P"
      }
    },
    {
      "cell_type": "code",
      "source": [
        "def max_val(list_val):\n",
        "     max_val = max(list_val, key = lambda i: (isinstance(i, int), i))\n",
        "     return(max_val)\n",
        "\n",
        "list_val = [5, 25, 50, 100, 2000]\n",
        "print(\"Original list:\")\n",
        "print(list_val)\n",
        "print(\"\\nMaximum values in the said list using lambda:\")\n",
        "print(max_val(list_val))"
      ],
      "metadata": {
        "colab": {
          "base_uri": "https://localhost:8080/"
        },
        "id": "QxvmXYhZAJ0n",
        "outputId": "82643a16-cc55-4866-88ad-ab25ecc09be2"
      },
      "execution_count": 7,
      "outputs": [
        {
          "output_type": "stream",
          "name": "stdout",
          "text": [
            "Original list:\n",
            "[5, 25, 50, 100, 2000]\n",
            "\n",
            "Maximum values in the said list using lambda:\n",
            "2000\n"
          ]
        }
      ]
    },
    {
      "cell_type": "markdown",
      "source": [
        "8. Implement a lambda function to filter out all the even numbers from a list of integers.\n"
      ],
      "metadata": {
        "id": "ZHM64Ke4Awir"
      }
    },
    {
      "cell_type": "code",
      "source": [
        "numbers = [11, 22, 33, 44, 55, 66, 77, 88, 99, 100]\n",
        "print(\"List of numbers:\")\n",
        "print(numbers)\n",
        "print(\"\\nList of even numbers:\")\n",
        "evenNumbers = list(filter(lambda x: x%2 == 0, numbers))\n",
        "print(evenNumbers)"
      ],
      "metadata": {
        "colab": {
          "base_uri": "https://localhost:8080/"
        },
        "id": "HmQtBoONA2me",
        "outputId": "d071b675-a129-4cb1-d368-cf4e62534dc8"
      },
      "execution_count": 9,
      "outputs": [
        {
          "output_type": "stream",
          "name": "stdout",
          "text": [
            "List of numbers:\n",
            "[11, 22, 33, 44, 55, 66, 77, 88, 99, 100]\n",
            "\n",
            "List of even numbers:\n",
            "[22, 44, 66, 88, 100]\n"
          ]
        }
      ]
    },
    {
      "cell_type": "markdown",
      "source": [
        "9. Write a lambda function to sort a list of strings in ascending order based on the length of each\n",
        "string.\n"
      ],
      "metadata": {
        "id": "_TbspBt8BgvZ"
      }
    },
    {
      "cell_type": "code",
      "source": [
        "myList = [\"gowtam\", \"avinash\",\"midhun\"]\n",
        "\n",
        "sortedList = sorted(myList, key=lambda x: len(x))\n",
        "\n",
        "print(sortedList)"
      ],
      "metadata": {
        "colab": {
          "base_uri": "https://localhost:8080/"
        },
        "id": "QeM5eHnoBm6v",
        "outputId": "ef9aa141-a932-4013-ad15-72cd1dda7bee"
      },
      "execution_count": 11,
      "outputs": [
        {
          "output_type": "stream",
          "name": "stdout",
          "text": [
            "['gowtam', 'midhun', 'avinash']\n"
          ]
        }
      ]
    },
    {
      "cell_type": "markdown",
      "source": [
        "10. Create a lambda function that takes two lists as input and returns a new list containing the\n",
        "common elements between the two lists.\n",
        "\n"
      ],
      "metadata": {
        "id": "lTti06UEDPP_"
      }
    },
    {
      "cell_type": "code",
      "source": [
        "def intersection(lst1, lst2):\n",
        "    lst3 = [value for value in lst1 if value in lst2]\n",
        "    return lst3\n",
        "lst1 = [10,20,30,40,50,60,70,80,90,100]\n",
        "lst2 = [15,25,30,45,55,60,75,80,95,100]\n",
        "print(intersection(lst1, lst2))\n"
      ],
      "metadata": {
        "colab": {
          "base_uri": "https://localhost:8080/"
        },
        "id": "-4byMSVJDVUr",
        "outputId": "0ba979b8-5dd3-438c-f2cf-c16fe6a994c6"
      },
      "execution_count": 15,
      "outputs": [
        {
          "output_type": "stream",
          "name": "stdout",
          "text": [
            "[30, 60, 80, 100]\n"
          ]
        }
      ]
    },
    {
      "cell_type": "markdown",
      "source": [
        "11. Write a recursive function to calculate the factorial of a given positive integer."
      ],
      "metadata": {
        "id": "sbwn5rZeEk_C"
      }
    },
    {
      "cell_type": "code",
      "source": [
        "def factorial(n):\n",
        "  return 1 if (n<1) else n * factorial(n-1)\n",
        "n = 25\n",
        "print(f'The Factorial of {n} is', factorial(n))"
      ],
      "metadata": {
        "colab": {
          "base_uri": "https://localhost:8080/"
        },
        "id": "4jFNWrjOEqvb",
        "outputId": "77774c82-1a87-4cfc-82e6-7ae528e302bd"
      },
      "execution_count": 16,
      "outputs": [
        {
          "output_type": "stream",
          "name": "stdout",
          "text": [
            "The Factorial of 25 is 15511210043330985984000000\n"
          ]
        }
      ]
    },
    {
      "cell_type": "markdown",
      "source": [
        "12. Implement a recursive function to compute the nth Fibonacci number."
      ],
      "metadata": {
        "id": "yIGr-PzQF9gw"
      }
    },
    {
      "cell_type": "code",
      "source": [
        "def fibonacci(n):\n",
        "    if n <= 1:\n",
        "        return n\n",
        "    return fibonacci(n-1) + fibonacci(n-2)\n",
        "n = 8\n",
        "print(n, \"th Fibonacci Number: \")\n",
        "print(fibonacci(n))"
      ],
      "metadata": {
        "colab": {
          "base_uri": "https://localhost:8080/"
        },
        "id": "08uGNePSGC8r",
        "outputId": "56291c8b-6966-4f62-84f2-3e34aa6355d8"
      },
      "execution_count": 17,
      "outputs": [
        {
          "output_type": "stream",
          "name": "stdout",
          "text": [
            "8 th Fibonacci Number: \n",
            "21\n"
          ]
        }
      ]
    },
    {
      "cell_type": "markdown",
      "source": [
        "13 . Create a recursive function to find the sum of all the elements in a given list."
      ],
      "metadata": {
        "id": "v4plhA1oHWn4"
      }
    },
    {
      "cell_type": "code",
      "source": [
        "myList=[5, 15, 25, 35, 45, 55]\n",
        "\n",
        "def sumOfList(myList):\n",
        "    nSum=0\n",
        "    for i in myList:\n",
        "        nSum+=i\n",
        "    return nSum\n",
        "\n",
        "print(sumOfList(myList))"
      ],
      "metadata": {
        "colab": {
          "base_uri": "https://localhost:8080/"
        },
        "id": "24gXz80wH6bJ",
        "outputId": "f5f074c3-dc3a-4559-e1ca-0a6cc08b4207"
      },
      "execution_count": 18,
      "outputs": [
        {
          "output_type": "stream",
          "name": "stdout",
          "text": [
            "180\n"
          ]
        }
      ]
    },
    {
      "cell_type": "markdown",
      "source": [
        "14. Write a recursive function to determine whether a given string is a palindrome."
      ],
      "metadata": {
        "id": "U6Bd1NJsIHAj"
      }
    },
    {
      "cell_type": "code",
      "source": [
        "def is_palindrome(s):\n",
        "    if len(s) < 1:\n",
        "        return True\n",
        "    else:\n",
        "        if s[0] == s[-1]:\n",
        "            return is_palindrome(s[1:-1])\n",
        "        else:\n",
        "            return False\n",
        "a=(input(\"Enter string:\"))\n",
        "if(is_palindrome(a)==True):\n",
        "    print(\"String is a palindrome!\")\n",
        "else:\n",
        "    print(\"String isn't a palindrome!\")"
      ],
      "metadata": {
        "colab": {
          "base_uri": "https://localhost:8080/"
        },
        "id": "MvLVW2OYIU4G",
        "outputId": "420b5974-c470-4c37-c85a-b129d105fd76"
      },
      "execution_count": 27,
      "outputs": [
        {
          "output_type": "stream",
          "name": "stdout",
          "text": [
            "Enter string:mom\n",
            "String is a palindrome!\n"
          ]
        }
      ]
    },
    {
      "cell_type": "markdown",
      "source": [
        "15. Implement a recursive function to find the greatest common divisor (GCD) of two positive integers."
      ],
      "metadata": {
        "id": "MrtyHUyVKZKq"
      }
    },
    {
      "cell_type": "code",
      "source": [
        "def gcd(a,b):\n",
        "\n",
        "\n",
        "    if (b == 0):\n",
        "         return a\n",
        "    return gcd(b, a%b)\n",
        "\n",
        "a = 98\n",
        "b = 56\n",
        "if(gcd(a, b)):\n",
        "    print('GCD of', a, 'and', b, 'is', gcd(a, b))\n",
        "else:\n",
        "    print('not found')\n",
        ""
      ],
      "metadata": {
        "colab": {
          "base_uri": "https://localhost:8080/"
        },
        "id": "z9OC7KwoKeT8",
        "outputId": "20ee9159-1c7e-4152-c6ce-fd81b50d0918"
      },
      "execution_count": 28,
      "outputs": [
        {
          "output_type": "stream",
          "name": "stdout",
          "text": [
            "GCD of 98 and 56 is 14\n"
          ]
        }
      ]
    }
  ]
}