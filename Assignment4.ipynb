{
  "nbformat": 4,
  "nbformat_minor": 0,
  "metadata": {
    "colab": {
      "provenance": []
    },
    "kernelspec": {
      "name": "python3",
      "display_name": "Python 3"
    },
    "language_info": {
      "name": "python"
    }
  },
  "cells": [
    {
      "cell_type": "markdown",
      "source": [
        "1. What exactly is []?\n",
        "\n",
        "Ans: To represent a list we use []. [] represents empty list that contains no items in it."
      ],
      "metadata": {
        "id": "ES_VHle0dQuB"
      }
    },
    {
      "cell_type": "markdown",
      "source": [
        "2. In a list of values stored in a variable called spam, how would you assign the value'hello' as the\n",
        "third value? (Assume [2, 4, 6, 8, 10] are in spam.)"
      ],
      "metadata": {
        "id": "dMNb1c4JduVI"
      }
    },
    {
      "cell_type": "code",
      "source": [
        "spam = [2, 4, 6, 8, 10]\n",
        "print(spam)"
      ],
      "metadata": {
        "colab": {
          "base_uri": "https://localhost:8080/"
        },
        "id": "SYOJVS1eeBja",
        "outputId": "f3783c3e-48fd-4d74-b5ed-66c71d55e570"
      },
      "execution_count": 1,
      "outputs": [
        {
          "output_type": "stream",
          "name": "stdout",
          "text": [
            "[2, 4, 6, 8, 10]\n"
          ]
        }
      ]
    },
    {
      "cell_type": "code",
      "source": [
        "spam[2] = 'hello'\n",
        "print(spam)"
      ],
      "metadata": {
        "colab": {
          "base_uri": "https://localhost:8080/"
        },
        "id": "ay1kmQFjeTXK",
        "outputId": "8cbf60d6-e4fd-4b43-f78c-e148d024ad09"
      },
      "execution_count": 2,
      "outputs": [
        {
          "output_type": "stream",
          "name": "stdout",
          "text": [
            "[2, 4, 'hello', 8, 10]\n"
          ]
        }
      ]
    },
    {
      "cell_type": "markdown",
      "source": [
        "3. What is the value of spam[int('3' * 2) / 11)]?\n",
        "\n",
        "Ans: 'd' '3'*2 is the string '33', which is passed to int() before being divided by 11 this eventually evaluates to 3\n",
        "\n",
        "spam[3] is equals to d"
      ],
      "metadata": {
        "id": "fRLl2UGXebcO"
      }
    },
    {
      "cell_type": "code",
      "source": [
        "spam = ['a', 'b', 'c', 'd',]\n",
        "print(\"spam[int(int('3'*2)//11)]->\",spam[int(int('3'*2)//11)])"
      ],
      "metadata": {
        "colab": {
          "base_uri": "https://localhost:8080/"
        },
        "id": "nIbhiQ7ofjkR",
        "outputId": "33351d55-0b13-497a-ebc1-2fdd2a92cca2"
      },
      "execution_count": 4,
      "outputs": [
        {
          "output_type": "stream",
          "name": "stdout",
          "text": [
            "spam[int(int('3'*2)//11)]-> d\n"
          ]
        }
      ]
    },
    {
      "cell_type": "markdown",
      "source": [
        "4. What is the value of spam[-1]?"
      ],
      "metadata": {
        "id": "TLvb-5K9gJ1o"
      }
    },
    {
      "cell_type": "code",
      "source": [
        "spam = ['a', 'b', 'c', 'd',]\n",
        "print('spam[-1]->', spam[-1])"
      ],
      "metadata": {
        "colab": {
          "base_uri": "https://localhost:8080/"
        },
        "id": "HC3EArYAgPv3",
        "outputId": "b7673cc4-527f-4b6b-8021-fdf6cff9ba2c"
      },
      "execution_count": 5,
      "outputs": [
        {
          "output_type": "stream",
          "name": "stdout",
          "text": [
            "spam[-1]-> d\n"
          ]
        }
      ]
    },
    {
      "cell_type": "markdown",
      "source": [
        "5. What is the value of spam[:2]?\n",
        "\n"
      ],
      "metadata": {
        "id": "SAldwYkQglRx"
      }
    },
    {
      "cell_type": "code",
      "source": [
        "spam = ['a', 'b', 'c', 'd',]\n",
        "print(spam[:2])"
      ],
      "metadata": {
        "colab": {
          "base_uri": "https://localhost:8080/"
        },
        "id": "-ngKKwGaguS6",
        "outputId": "d3babfbb-1d1c-483c-a268-a596f5fe54df"
      },
      "execution_count": 6,
      "outputs": [
        {
          "output_type": "stream",
          "name": "stdout",
          "text": [
            "['a', 'b']\n"
          ]
        }
      ]
    },
    {
      "cell_type": "markdown",
      "source": [
        "6. Let's pretend bacon has the list [3.14,'cat', 11,'cat','True] for the next three questions.What is the value of bacon.index('cat')?"
      ],
      "metadata": {
        "id": "d9ut4wTHg64f"
      }
    },
    {
      "cell_type": "code",
      "source": [
        "bacon = [3.14, 'cat', 11, 'cat', True]\n",
        "print(bacon.index('cat'))"
      ],
      "metadata": {
        "colab": {
          "base_uri": "https://localhost:8080/"
        },
        "id": "7gUaJiTFhl5p",
        "outputId": "dc591044-c6bd-43ad-d5df-36a26e03966e"
      },
      "execution_count": 7,
      "outputs": [
        {
          "output_type": "stream",
          "name": "stdout",
          "text": [
            "1\n"
          ]
        }
      ]
    },
    {
      "cell_type": "markdown",
      "source": [
        "7. How does bacon.append(99) change the look of the list value in bacon?\n"
      ],
      "metadata": {
        "id": "WAp4brK-h4DT"
      }
    },
    {
      "cell_type": "code",
      "source": [
        "bacon = [3.14, 'cat', 11, 'cat', True]\n",
        "bacon.append(99)\n",
        "print(bacon)"
      ],
      "metadata": {
        "colab": {
          "base_uri": "https://localhost:8080/"
        },
        "id": "MBZaeJqQiDej",
        "outputId": "dda3cbb5-ecfd-44ad-a1b1-76c3351fa481"
      },
      "execution_count": 9,
      "outputs": [
        {
          "output_type": "stream",
          "name": "stdout",
          "text": [
            "[3.14, 'cat', 11, 'cat', True, 99]\n"
          ]
        }
      ]
    },
    {
      "cell_type": "markdown",
      "source": [
        "8. How does bacon.remove('cat') change the look of the list in bacon?\n"
      ],
      "metadata": {
        "id": "AD_kZQ9ribtw"
      }
    },
    {
      "cell_type": "code",
      "source": [
        "print(bacon)"
      ],
      "metadata": {
        "colab": {
          "base_uri": "https://localhost:8080/"
        },
        "id": "x_dJTtYtin-6",
        "outputId": "b9a09268-c821-40d6-b2ad-74c80451547b"
      },
      "execution_count": 10,
      "outputs": [
        {
          "output_type": "stream",
          "name": "stdout",
          "text": [
            "[3.14, 'cat', 11, 'cat', True, 99]\n"
          ]
        }
      ]
    },
    {
      "cell_type": "code",
      "source": [
        "bacon.remove('cat')\n",
        "print(bacon)"
      ],
      "metadata": {
        "colab": {
          "base_uri": "https://localhost:8080/"
        },
        "id": "wZXZNg7Nitj2",
        "outputId": "36ca754d-77c7-4e21-891b-5d8d6af65139"
      },
      "execution_count": 11,
      "outputs": [
        {
          "output_type": "stream",
          "name": "stdout",
          "text": [
            "[3.14, 11, 'cat', True, 99]\n"
          ]
        }
      ]
    },
    {
      "cell_type": "markdown",
      "source": [
        "9. What are the list concatenation and list replication operators?\n",
        "\n",
        "Ans: list concatination operator is '+' while list replication operator is '*'"
      ],
      "metadata": {
        "id": "OIhsepSci94V"
      }
    },
    {
      "cell_type": "code",
      "source": [
        "list_1 = [1, 2, 3]\n",
        "list_2 = ['a', 'b', 'c']\n",
        "print(list_1 + list_2)"
      ],
      "metadata": {
        "colab": {
          "base_uri": "https://localhost:8080/"
        },
        "id": "jgUv8H42jQtP",
        "outputId": "3aaaf9da-a3e4-49ee-f23d-6511f64c9365"
      },
      "execution_count": 12,
      "outputs": [
        {
          "output_type": "stream",
          "name": "stdout",
          "text": [
            "[1, 2, 3, 'a', 'b', 'c']\n"
          ]
        }
      ]
    },
    {
      "cell_type": "code",
      "source": [
        "print(list_1 * 3)"
      ],
      "metadata": {
        "colab": {
          "base_uri": "https://localhost:8080/"
        },
        "id": "E6dianyujnTj",
        "outputId": "3197024a-f14d-4a85-ee09-e5ca25368a1f"
      },
      "execution_count": 13,
      "outputs": [
        {
          "output_type": "stream",
          "name": "stdout",
          "text": [
            "[1, 2, 3, 1, 2, 3, 1, 2, 3]\n"
          ]
        }
      ]
    },
    {
      "cell_type": "markdown",
      "source": [
        "10. What is difference between the list methods append() and insert()?\n",
        "\n",
        "Ans: append() method add values only end of the list\n",
        "\n",
        "insert() method can add values anywhere in the list"
      ],
      "metadata": {
        "id": "nNRXp_9ojtAD"
      }
    },
    {
      "cell_type": "code",
      "source": [
        "list_1 = [1, 2, 3]\n",
        "list_1.append(4)\n",
        "print(list_1)"
      ],
      "metadata": {
        "colab": {
          "base_uri": "https://localhost:8080/"
        },
        "id": "VfpLPwHIkDnK",
        "outputId": "fdeb00d3-b4cd-43d4-926f-6c4fcac59121"
      },
      "execution_count": 15,
      "outputs": [
        {
          "output_type": "stream",
          "name": "stdout",
          "text": [
            "[1, 2, 3, 4]\n"
          ]
        }
      ]
    },
    {
      "cell_type": "code",
      "source": [
        "list_1.insert(1, 'lab')\n",
        "print(list_1)"
      ],
      "metadata": {
        "colab": {
          "base_uri": "https://localhost:8080/"
        },
        "id": "kT5gr810kRKX",
        "outputId": "11625b8b-5c8a-4270-a9b1-7a5dcd347e6d"
      },
      "execution_count": 17,
      "outputs": [
        {
          "output_type": "stream",
          "name": "stdout",
          "text": [
            "[1, 'lab', 2, 3, 4]\n"
          ]
        }
      ]
    },
    {
      "cell_type": "markdown",
      "source": [
        "11. What are the two methods for removing items from a list?\n",
        "\n",
        "Ans: del and remove are the two methods to remove items from the list"
      ],
      "metadata": {
        "id": "Pi58-ohtkkch"
      }
    },
    {
      "cell_type": "code",
      "source": [
        "list_1 = ['tom', 'jerry',1, 2, 'dog']\n",
        "print(list_1)"
      ],
      "metadata": {
        "colab": {
          "base_uri": "https://localhost:8080/"
        },
        "id": "QuYWy1HDk7f_",
        "outputId": "54d12b25-0fbc-449e-b673-fca71ebb97f4"
      },
      "execution_count": 18,
      "outputs": [
        {
          "output_type": "stream",
          "name": "stdout",
          "text": [
            "['tom', 'jerry', 1, 2, 'dog']\n"
          ]
        }
      ]
    },
    {
      "cell_type": "code",
      "source": [
        "list_1.remove(1)\n",
        "print(list_1)"
      ],
      "metadata": {
        "colab": {
          "base_uri": "https://localhost:8080/"
        },
        "id": "h8pS0Me1lJ01",
        "outputId": "c8282fcc-8466-496a-a4ee-3283f21901bf"
      },
      "execution_count": 19,
      "outputs": [
        {
          "output_type": "stream",
          "name": "stdout",
          "text": [
            "['tom', 'jerry', 2, 'dog']\n"
          ]
        }
      ]
    },
    {
      "cell_type": "markdown",
      "source": [
        "12. Describe how list values and string values are identical.\n",
        "\n",
        "Ans: both list and string can be passed to len() function, have indexes, slices, be used in for loops, be concatenated or replicated and be used with the in and not in operators"
      ],
      "metadata": {
        "id": "uxdAjYTOlxb7"
      }
    },
    {
      "cell_type": "markdown",
      "source": [
        "13. What's the difference between tuples and lists?\n",
        "\n",
        "Ans: list are mutable, indexable, slicable list are represented in [].Tuples are imutable but indexable and slicable tuples are represented in()"
      ],
      "metadata": {
        "id": "mXYVgRnNnSZB"
      }
    },
    {
      "cell_type": "markdown",
      "source": [
        "14. How do you type a tuple value that only contains the integer 42?"
      ],
      "metadata": {
        "id": "sP-g5vntn8Kb"
      }
    },
    {
      "cell_type": "code",
      "source": [
        "tuple_1 = (42)\n",
        "tuple_2 = (42,)\n",
        "print(type(tuple_1))"
      ],
      "metadata": {
        "colab": {
          "base_uri": "https://localhost:8080/"
        },
        "id": "9GV435h9oByd",
        "outputId": "d9386e24-22ea-4a38-e612-dc7372b31f90"
      },
      "execution_count": 21,
      "outputs": [
        {
          "output_type": "stream",
          "name": "stdout",
          "text": [
            "<class 'int'>\n"
          ]
        }
      ]
    },
    {
      "cell_type": "code",
      "source": [
        "print(type(tuple_2))"
      ],
      "metadata": {
        "colab": {
          "base_uri": "https://localhost:8080/"
        },
        "id": "GKQSoORnoUDY",
        "outputId": "4d2fd326-9d2d-4168-d006-f531abf86948"
      },
      "execution_count": 22,
      "outputs": [
        {
          "output_type": "stream",
          "name": "stdout",
          "text": [
            "<class 'tuple'>\n"
          ]
        }
      ]
    },
    {
      "cell_type": "markdown",
      "source": [
        "15. How do you get a list value's tuple form? How do you get a tuple value's list form?\n",
        "\n",
        "Ans: tuple() and list() functions used to convert a list to tuple and viseversa"
      ],
      "metadata": {
        "id": "Br_P7OT7oZu5"
      }
    },
    {
      "cell_type": "markdown",
      "source": [
        "16. Variables that \"contain\" list values are not necessarily lists themselves. Instead, what do they\n",
        "contain?\n",
        "\n",
        "Ans:they contain reference to list values"
      ],
      "metadata": {
        "id": "LOeD-KCbozuP"
      }
    },
    {
      "cell_type": "markdown",
      "source": [
        "17. How do you distinguish between copy.copy() and copy.deepcopy()?\n",
        "\n",
        "Ans: copy.copy() function will do shallow copy oflist while copy.deepcopy() function do deep copy of list which means it can create any duplicate list inside the list"
      ],
      "metadata": {
        "id": "gpA9oKB5pIcv"
      }
    },
    {
      "cell_type": "markdown",
      "source": [
        "14."
      ],
      "metadata": {
        "id": "tY8X98utnwYF"
      }
    }
  ]
}