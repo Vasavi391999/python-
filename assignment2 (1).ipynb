{
  "nbformat": 4,
  "nbformat_minor": 0,
  "metadata": {
    "colab": {
      "provenance": []
    },
    "kernelspec": {
      "name": "python3",
      "display_name": "Python 3"
    },
    "language_info": {
      "name": "python"
    }
  },
  "cells": [
    {
      "cell_type": "markdown",
      "source": [
        "1.What are the two values of the Boolean data type? How do you write them?\n",
        "\n",
        "Ans: Two values of boolean data type are True and False"
      ],
      "metadata": {
        "id": "5lHkPjQdgwZe"
      }
    },
    {
      "cell_type": "code",
      "source": [
        "a = True\n",
        "print(a, type(a))"
      ],
      "metadata": {
        "id": "BdrxPdqnhmMi"
      },
      "execution_count": null,
      "outputs": []
    },
    {
      "cell_type": "code",
      "source": [
        "b = False\n",
        "print(b, type(b))"
      ],
      "metadata": {
        "colab": {
          "base_uri": "https://localhost:8080/"
        },
        "id": "-K6UjlhbiDLd",
        "outputId": "b274444c-d93d-4c00-d507-1839d5fd0f37"
      },
      "execution_count": 2,
      "outputs": [
        {
          "output_type": "stream",
          "name": "stdout",
          "text": [
            "False <class 'bool'>\n"
          ]
        }
      ]
    },
    {
      "cell_type": "markdown",
      "source": [
        "2. What are the three different types of Boolean operators?\n",
        "\n",
        "Ans: The three different types of boolean operators are and, or, not"
      ],
      "metadata": {
        "id": "sdVeh2cFiKYU"
      }
    },
    {
      "cell_type": "code",
      "source": [
        "a = 100\n",
        "b = 50\n",
        "print(a > 50 and b > 25)"
      ],
      "metadata": {
        "colab": {
          "base_uri": "https://localhost:8080/"
        },
        "id": "kdutM2Qqi3Nr",
        "outputId": "54f1dd03-0a77-4afe-9236-12159706beca"
      },
      "execution_count": 3,
      "outputs": [
        {
          "output_type": "stream",
          "name": "stdout",
          "text": [
            "True\n"
          ]
        }
      ]
    },
    {
      "cell_type": "code",
      "source": [
        "print(a > 100 or b >100)"
      ],
      "metadata": {
        "colab": {
          "base_uri": "https://localhost:8080/"
        },
        "id": "LMRH5E5QjIv1",
        "outputId": "406ea394-3981-4539-bf65-58ebb3bcef60"
      },
      "execution_count": 4,
      "outputs": [
        {
          "output_type": "stream",
          "name": "stdout",
          "text": [
            "False\n"
          ]
        }
      ]
    },
    {
      "cell_type": "code",
      "source": [
        "print(not(a>10))"
      ],
      "metadata": {
        "colab": {
          "base_uri": "https://localhost:8080/"
        },
        "id": "Yd0M9X6pjTep",
        "outputId": "6cd46742-e4db-4b8d-c305-6932ea3618ab"
      },
      "execution_count": 5,
      "outputs": [
        {
          "output_type": "stream",
          "name": "stdout",
          "text": [
            "False\n"
          ]
        }
      ]
    },
    {
      "cell_type": "markdown",
      "source": [
        "3. Make a list of each Boolean operator&#39;s truth tables (i.e. every possible combination of Boolean\n",
        "values for the operator and what it evaluate ).\n",
        "\n",
        "Ans: Truth tables for and:\n",
        "True and True is True\n",
        "\n",
        "True and False is False\n",
        "\n",
        "False andTrue is False\n",
        "\n",
        "False and False is False\n",
        "\n",
        "Truth table for or:\n",
        "True and True is True\n",
        "\n",
        "True and False is True\n",
        "\n",
        "False and True is True\n",
        "\n",
        "False and False is False\n",
        "\n",
        "Truth table for not:\n",
        "True not is false\n",
        "\n",
        "False not is True\n",
        "\n",
        "\n"
      ],
      "metadata": {
        "id": "plK6W7Xfjtnc"
      }
    },
    {
      "cell_type": "markdown",
      "source": [
        "4. What are the values of the following expressions?\n",
        "(5 > 4) and (3 == 5)\n",
        "not (5 > 4)\n",
        "(5 > 4) or (3 == 5)\n",
        "not ((5 > 4) or (3 == 5))\n",
        "(True and True) and (True == False)\n",
        "(not False) or (not True)"
      ],
      "metadata": {
        "id": "AegDNMkrkq2C"
      }
    },
    {
      "cell_type": "code",
      "source": [
        "print((5 >4) and(3 == 5))"
      ],
      "metadata": {
        "colab": {
          "base_uri": "https://localhost:8080/"
        },
        "id": "A8xx2A6MlKNp",
        "outputId": "b44356de-cc88-4145-dd28-00a4c9384282"
      },
      "execution_count": 6,
      "outputs": [
        {
          "output_type": "stream",
          "name": "stdout",
          "text": [
            "False\n"
          ]
        }
      ]
    },
    {
      "cell_type": "code",
      "source": [
        "print(not(5>4))"
      ],
      "metadata": {
        "colab": {
          "base_uri": "https://localhost:8080/"
        },
        "id": "13mK3hgQlfwK",
        "outputId": "7eb6d029-8954-44a1-e68f-cb2687672dfc"
      },
      "execution_count": 7,
      "outputs": [
        {
          "output_type": "stream",
          "name": "stdout",
          "text": [
            "False\n"
          ]
        }
      ]
    },
    {
      "cell_type": "code",
      "source": [
        "print((5>4)or(3==5))"
      ],
      "metadata": {
        "colab": {
          "base_uri": "https://localhost:8080/"
        },
        "id": "F_NSJNIJlonW",
        "outputId": "b0596c2e-73e1-4488-ada2-868f074b8c24"
      },
      "execution_count": 8,
      "outputs": [
        {
          "output_type": "stream",
          "name": "stdout",
          "text": [
            "True\n"
          ]
        }
      ]
    },
    {
      "cell_type": "code",
      "source": [
        "print(not((5>4)or(3==5)))"
      ],
      "metadata": {
        "colab": {
          "base_uri": "https://localhost:8080/"
        },
        "id": "2I4czcqglyW8",
        "outputId": "3da34adf-364e-4b95-8ecd-084533655ffb"
      },
      "execution_count": 9,
      "outputs": [
        {
          "output_type": "stream",
          "name": "stdout",
          "text": [
            "False\n"
          ]
        }
      ]
    },
    {
      "cell_type": "code",
      "source": [
        "print((True and True)and(True == False))"
      ],
      "metadata": {
        "colab": {
          "base_uri": "https://localhost:8080/"
        },
        "id": "-21n6B1Rl_G6",
        "outputId": "9ffec8cf-1644-489b-c570-900766285688"
      },
      "execution_count": 10,
      "outputs": [
        {
          "output_type": "stream",
          "name": "stdout",
          "text": [
            "False\n"
          ]
        }
      ]
    },
    {
      "cell_type": "code",
      "source": [
        "print((not False)or(not True))"
      ],
      "metadata": {
        "colab": {
          "base_uri": "https://localhost:8080/"
        },
        "id": "vO9gJ2eBmNsM",
        "outputId": "f6f37a7b-6cde-49fd-8447-0e03c881adaa"
      },
      "execution_count": 11,
      "outputs": [
        {
          "output_type": "stream",
          "name": "stdout",
          "text": [
            "True\n"
          ]
        }
      ]
    },
    {
      "cell_type": "markdown",
      "source": [
        "5. What are the six comparison operators?\n",
        "\n",
        "Ans: The six comparision operators are\n",
        "\n",
        "==, !=, >,<,>=,<="
      ],
      "metadata": {
        "id": "MFzocHOzmXFW"
      }
    },
    {
      "cell_type": "markdown",
      "source": [
        "6. How do you tell the difference between the equal to and assignment operators?Describe a\n",
        "condition and when you would use one.\n",
        "\n",
        "Ans: == is used to compare two values and evaluate to a boolean value\n",
        "\n",
        "= is used to store value in variable"
      ],
      "metadata": {
        "id": "yIgMMoM7mpjN"
      }
    },
    {
      "cell_type": "code",
      "source": [
        "a = 3\n",
        "if a == 3:\n",
        "  print(a == 3)"
      ],
      "metadata": {
        "colab": {
          "base_uri": "https://localhost:8080/"
        },
        "id": "w7T4iFffnD_7",
        "outputId": "3836b3d6-1717-4eec-b2e3-66919ea24d02"
      },
      "execution_count": 12,
      "outputs": [
        {
          "output_type": "stream",
          "name": "stdout",
          "text": [
            "True\n"
          ]
        }
      ]
    },
    {
      "cell_type": "markdown",
      "source": [
        "7. Identify the three blocks in this code:\n",
        "spam = 0\n",
        "if spam == 10:\n",
        "print('eggs')\n",
        "if spam > 5:\n",
        "print('bacon';)\n",
        "else:\n",
        "print('ham')\n",
        "print('spam')\n",
        "print('spam')"
      ],
      "metadata": {
        "id": "H3ZRjRxcnNZk"
      }
    },
    {
      "cell_type": "code",
      "source": [
        "spam=0\n",
        "if spam==10:\n",
        "  print('eggs')\n",
        "if spam>5:\n",
        "  print('bacon')\n",
        "else:\n",
        "  print('ham')\n",
        "  print('spam')\n",
        "  print('spam')"
      ],
      "metadata": {
        "colab": {
          "base_uri": "https://localhost:8080/"
        },
        "id": "79qhWUQznyN8",
        "outputId": "5d9f4e2a-9072-4dda-fd28-ffd653aaa7ed"
      },
      "execution_count": 13,
      "outputs": [
        {
          "output_type": "stream",
          "name": "stdout",
          "text": [
            "ham\n",
            "spam\n",
            "spam\n"
          ]
        }
      ]
    },
    {
      "cell_type": "markdown",
      "source": [
        "8. Write code that prints Hello if 1 is stored in spam, prints Howdy if 2 is stored in spam, and prints\n",
        "Greetings! if anything else is stored in spam."
      ],
      "metadata": {
        "id": "0QuMlRLOoaw2"
      }
    },
    {
      "cell_type": "code",
      "source": [
        "def spamCode(spam):\n",
        "  if spam==1:\n",
        "    print('Hello')\n",
        "  elif spam==2:\n",
        "    print('Howdy')\n",
        "  else:\n",
        "    print('Greetings')\n",
        "spamCode(1)\n",
        "spamCode(2)\n",
        "spamCode(3)"
      ],
      "metadata": {
        "colab": {
          "base_uri": "https://localhost:8080/"
        },
        "id": "jt6V2dXyonOs",
        "outputId": "175765e3-d007-434f-c9de-7a3da524af7c"
      },
      "execution_count": 14,
      "outputs": [
        {
          "output_type": "stream",
          "name": "stdout",
          "text": [
            "Hello\n",
            "Howdy\n",
            "Greetings\n"
          ]
        }
      ]
    },
    {
      "cell_type": "markdown",
      "source": [
        "9. If your programme is stuck in an endless loop, what keys you’ll press?\n",
        "\n",
        "Ans: press Ctrl-c to stop a program stuck in an infinite loop"
      ],
      "metadata": {
        "id": "H3-3DepJpK-Y"
      }
    },
    {
      "cell_type": "markdown",
      "source": [
        "10. How can you tell the difference between break and continue?\n",
        "\n",
        "Ans: break statement use to move the execution outside the loop if break condition is satisfied\n",
        "\n",
        "continue statement will move the execution to start the loop"
      ],
      "metadata": {
        "id": "qCdVTkYKplQX"
      }
    },
    {
      "cell_type": "markdown",
      "source": [
        "11. In a for loop, what is the difference between range(10), range(0, 10), and range(0, 10, 1)?\n",
        "\n",
        "Ans: range(10) defines that call range from 0 to 9\n",
        "\n",
        "range(0, 10) tells the loop start at 0\n",
        "\n",
        "range(0, 10, 1) tells the loop to increase the variable by 1 on each iteration"
      ],
      "metadata": {
        "id": "aEUEmYzIqGQD"
      }
    },
    {
      "cell_type": "markdown",
      "source": [
        "12. Write a short program that prints the numbers 1 to 10 using a for loop. Then write an equivalent\n",
        "program that prints the numbers 1 to 10 using a while loop.\n",
        "\n"
      ],
      "metadata": {
        "id": "e9uxS3jBqtQP"
      }
    },
    {
      "cell_type": "code",
      "source": [
        "for i in range(1,11):\n",
        "  print(i,end='')\n",
        "print('\\n')\n"
      ],
      "metadata": {
        "colab": {
          "base_uri": "https://localhost:8080/"
        },
        "id": "kcbSNXGcq4ty",
        "outputId": "4867c2e5-9689-4e64-f5f5-c4f5e0ffc54c"
      },
      "execution_count": 16,
      "outputs": [
        {
          "output_type": "stream",
          "name": "stdout",
          "text": [
            "12345678910\n",
            "\n"
          ]
        }
      ]
    },
    {
      "cell_type": "code",
      "source": [
        "i=1\n",
        "while i<=10:\n",
        "  print(i,end='')\n",
        "  i+=10"
      ],
      "metadata": {
        "colab": {
          "base_uri": "https://localhost:8080/"
        },
        "id": "98zOFdM-rOvt",
        "outputId": "eec279c4-964d-47c7-b2ce-02c4976554dc"
      },
      "execution_count": 17,
      "outputs": [
        {
          "output_type": "stream",
          "name": "stdout",
          "text": [
            "1"
          ]
        }
      ]
    },
    {
      "cell_type": "markdown",
      "source": [
        "13. If you had a function named bacon() inside a module named spam, how would you call it after\n",
        "importing spam?\n",
        "\n",
        "Ans: this function can call with spam.bacon()"
      ],
      "metadata": {
        "id": "RNYf39iUrdN7"
      }
    }
  ]
}