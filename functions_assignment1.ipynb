{
  "nbformat": 4,
  "nbformat_minor": 0,
  "metadata": {
    "colab": {
      "provenance": []
    },
    "kernelspec": {
      "name": "python3",
      "display_name": "Python 3"
    },
    "language_info": {
      "name": "python"
    }
  },
  "cells": [
    {
      "cell_type": "markdown",
      "source": [
        "1. In Python, what is the difference between a built-in function and a user-defined function? Provide an\n",
        "example of each.\n",
        "\n",
        "Ans: The built-in Python functions are pre-defined by the python interpreter. These functions perform a specific task and can be used in any program, depending on the requirement of the user."
      ],
      "metadata": {
        "id": "z88HbS-wBjKR"
      }
    },
    {
      "cell_type": "code",
      "source": [
        "print('Enter your name:')\n",
        "x = input()\n",
        "print('Hello, ' + x)"
      ],
      "metadata": {
        "colab": {
          "base_uri": "https://localhost:8080/"
        },
        "id": "g_dyuI4GCgSm",
        "outputId": "861f59c9-7e47-46f1-a2e7-bf471f949f8f"
      },
      "execution_count": 1,
      "outputs": [
        {
          "output_type": "stream",
          "name": "stdout",
          "text": [
            "Enter your name:\n",
            "'vasavi'\n",
            "Hello, 'vasavi'\n"
          ]
        }
      ]
    },
    {
      "cell_type": "markdown",
      "source": [
        "In Python, a user-defined function's declaration begins with the keyword def and followed by the function name.\n",
        "The function may take arguments as input within the opening and closing parentheses, just after the function name followed by a colon.\n",
        "After defining the function name and arguments a block of program statement start at the next line and these statement must be indented."
      ],
      "metadata": {
        "id": "bO8XMhDlC9qf"
      }
    },
    {
      "cell_type": "code",
      "source": [
        "def avg_number(x, y):\n",
        "    print(\"Average of \",x,\" and \",y, \" is \",(x+y)/2)\n",
        "avg_number(3, 4)"
      ],
      "metadata": {
        "colab": {
          "base_uri": "https://localhost:8080/"
        },
        "id": "3ZShuCN8DWpc",
        "outputId": "0300f067-4426-450c-a97c-155d14e1feaa"
      },
      "execution_count": 2,
      "outputs": [
        {
          "output_type": "stream",
          "name": "stdout",
          "text": [
            "Average of  3  and  4  is  3.5\n"
          ]
        }
      ]
    },
    {
      "cell_type": "markdown",
      "source": [
        "2. How can you pass arguments to a function in Python? Explain the difference between positional\n",
        "arguments and keyword arguments.\n",
        "\n",
        "Ans: To pass arguments to a function we use parameter names.\n",
        "\n",
        "A positional argument is a name that is not followed by an equal sign (=) and default value.A positional argument in Python is an argument whose position matters in a function call."
      ],
      "metadata": {
        "id": "ym2dW2ImDdSI"
      }
    },
    {
      "cell_type": "code",
      "source": [
        "print(2, 1, 3, 4, 5)"
      ],
      "metadata": {
        "colab": {
          "base_uri": "https://localhost:8080/"
        },
        "id": "0eboVabDFaBY",
        "outputId": "cadd5665-ade8-46a0-cf48-dcdf54eef877"
      },
      "execution_count": 8,
      "outputs": [
        {
          "output_type": "stream",
          "name": "stdout",
          "text": [
            "2 1 3 4 5\n"
          ]
        }
      ]
    },
    {
      "cell_type": "code",
      "source": [
        "# The print function also accepts some arguments as keyword arguments.The print function accepts an optional sep argument (which defaults to a space character).\n",
        "print(2,1,3,4, sep='-')"
      ],
      "metadata": {
        "colab": {
          "base_uri": "https://localhost:8080/"
        },
        "id": "VFSK_ttRFe9M",
        "outputId": "3feeb7ad-5498-4b97-f12c-472ae3f9c152"
      },
      "execution_count": 10,
      "outputs": [
        {
          "output_type": "stream",
          "name": "stdout",
          "text": [
            "2-1-3-4\n"
          ]
        }
      ]
    },
    {
      "cell_type": "markdown",
      "source": [
        "3. What is the purpose of the return statement in a function? Can a function have multiple return\n",
        "statements? Explain with an example.\n",
        "\n",
        "Ans: The Python return statement is a key component of functions and methods. You can use the return statement to make your functions send Python objects back to the caller code. These objects are known as the function’s return value. You can use them to perform further computation in your programs.Multiple return statements may exist in a function, but only the one that fulfils the specified condition first is executed."
      ],
      "metadata": {
        "id": "VQnlwMF3F7aX"
      }
    },
    {
      "cell_type": "code",
      "source": [
        "def type_of_int(i):\n",
        "    if i % 2 == 0:\n",
        "        return 'even'\n",
        "    else:\n",
        "        return 'odd'\n",
        "\n",
        "result = type_of_int(8)\n",
        "\n",
        "print(result)"
      ],
      "metadata": {
        "colab": {
          "base_uri": "https://localhost:8080/"
        },
        "id": "TUjE-axQHPWs",
        "outputId": "59568a81-f457-4b4e-ccb8-954fc969ca63"
      },
      "execution_count": 11,
      "outputs": [
        {
          "output_type": "stream",
          "name": "stdout",
          "text": [
            "even\n"
          ]
        }
      ]
    },
    {
      "cell_type": "markdown",
      "source": [
        "4. What are lambda functions in Python? How are they different from regular functions? Provide an\n",
        "example where a lambda function can be useful.\n",
        "\n",
        "Ans: A lambda function is an anonymous function (i.e., defined without a name) that can take any number of arguments but, unlike normal functions, evaluates and returns only one expression.unlike a normal function, we don't surround the parameters of a lambda function with parentheses. If a lambda function takes two or more parameters, we list them with a comma."
      ],
      "metadata": {
        "id": "Bl9SVCDMHUip"
      }
    },
    {
      "cell_type": "code",
      "source": [
        "square = lambda x: x **2\n",
        "print(square(6))"
      ],
      "metadata": {
        "colab": {
          "base_uri": "https://localhost:8080/"
        },
        "id": "DhSfPvZMIGVo",
        "outputId": "c24729eb-5ceb-4347-80f6-776dac2155e5"
      },
      "execution_count": 12,
      "outputs": [
        {
          "output_type": "stream",
          "name": "stdout",
          "text": [
            "36\n"
          ]
        }
      ]
    },
    {
      "cell_type": "markdown",
      "source": [
        "5. How does the concept of \"scope\" apply to functions in Python? Explain the difference between local\n",
        "scope and global scope.\n",
        "\n",
        "Ans:In Python, the concept of scope is closely related to the concept of the namespace. As you've learned so far, a Python scope determines where in your program a name is visible. Python scopes are implemented as dictionaries that map names to objects. These dictionaries are commonly called namespaces.\n",
        "\n",
        " Local scope:A local scope is “created” when the program enters a function. The variables or parameters which are assigned to or in this function are only available inside of this function and get deleted automatically after the program exits the function.\n",
        "\n",
        " Global scope:The global scope is just the normal program flow. We already often used global variables. You could call them “normal” variables if you want to. These global variables also get deleted after the whole program finished."
      ],
      "metadata": {
        "id": "OXYZO0LRIfTX"
      }
    },
    {
      "cell_type": "markdown",
      "source": [
        "6. How can you use the \"return\" statement in a Python function to return multiple values?\n"
      ],
      "metadata": {
        "id": "Ep4mIbKVLN9h"
      }
    },
    {
      "cell_type": "code",
      "source": [
        "def create_adder(x):\n",
        "    def adder(y):\n",
        "        return x + y\n",
        "\n",
        "    return adder\n",
        "\n",
        "add_15 = create_adder(15)\n",
        "\n",
        "print(\"The result is\", add_15(10))"
      ],
      "metadata": {
        "colab": {
          "base_uri": "https://localhost:8080/"
        },
        "id": "dc2iwnChLWUE",
        "outputId": "ff3f00e9-228c-4d80-b10b-3fd6c7c8761c"
      },
      "execution_count": 13,
      "outputs": [
        {
          "output_type": "stream",
          "name": "stdout",
          "text": [
            "The result is 25\n"
          ]
        }
      ]
    },
    {
      "cell_type": "markdown",
      "source": [
        "7. What is the difference between the \"pass by value\" and \"pass by reference\" concepts when it\n",
        "comes to function arguments in Python?\n",
        "\n",
        "Ans:In pass by value, the value of a function parameter is copied to another location of the memory. When accessing or modifying the variable within the function, it accesses only the copy. Thus, there is no effect on the original value.\n",
        "\n",
        "In pass by reference, the memory address is passed to that function. In other words, the function gets access to the actual variable"
      ],
      "metadata": {
        "id": "tIg224IHMTkl"
      }
    },
    {
      "cell_type": "markdown",
      "source": [
        "8. Create a function that can intake integer or decimal value and do following operations:\n",
        "a. Logarithmic function (log x)\n",
        "b. Exponential function (exp(x))\n",
        "c. Power function with base 2 (2^x)\n",
        "d.square root\n",
        "\n"
      ],
      "metadata": {
        "id": "4aMbkI0_OvrY"
      }
    },
    {
      "cell_type": "code",
      "source": [
        "import math\n",
        "x = 10\n",
        "print(\"the value of log x is:\", end=\"\")\n",
        "print(math.log(x))"
      ],
      "metadata": {
        "colab": {
          "base_uri": "https://localhost:8080/"
        },
        "id": "WXBc8HOLPchq",
        "outputId": "4be2a9a0-7777-41ba-d569-23f4ad2c502c"
      },
      "execution_count": 14,
      "outputs": [
        {
          "output_type": "stream",
          "name": "stdout",
          "text": [
            "the value of log x is:2.302585092994046\n"
          ]
        }
      ]
    },
    {
      "cell_type": "code",
      "source": [
        "import math\n",
        "x = 10\n",
        "print(\"the e**x value is:\", end=\"\")\n",
        "print(math.exp(x))"
      ],
      "metadata": {
        "colab": {
          "base_uri": "https://localhost:8080/"
        },
        "id": "WYX9TB1HQGDI",
        "outputId": "1ce17f8f-23bb-4a52-a4a3-9e512a03d213"
      },
      "execution_count": 15,
      "outputs": [
        {
          "output_type": "stream",
          "name": "stdout",
          "text": [
            "the e**x value is:22026.465794806718\n"
          ]
        }
      ]
    },
    {
      "cell_type": "code",
      "source": [
        "import math\n",
        "x = 25\n",
        "print(\"the square root of x is:\", end=\"\")\n",
        "print(math.sqrt(x))"
      ],
      "metadata": {
        "colab": {
          "base_uri": "https://localhost:8080/"
        },
        "id": "nC_zwtFYQmk4",
        "outputId": "fb23bfdb-1ecc-4534-e4df-b4b4f38c0f25"
      },
      "execution_count": 17,
      "outputs": [
        {
          "output_type": "stream",
          "name": "stdout",
          "text": [
            "the square root of x is:5.0\n"
          ]
        }
      ]
    },
    {
      "cell_type": "code",
      "source": [
        "import math\n",
        "x = 5\n",
        "print(\"the power function of x with base 2 is :\", end=\"\")\n",
        "print(math.pow(2, 5))"
      ],
      "metadata": {
        "colab": {
          "base_uri": "https://localhost:8080/"
        },
        "id": "-YXaTWG6RRIO",
        "outputId": "a3931fdd-768b-4562-aafc-896f94efaf60"
      },
      "execution_count": 18,
      "outputs": [
        {
          "output_type": "stream",
          "name": "stdout",
          "text": [
            "the power function of x with base 2 is :32.0\n"
          ]
        }
      ]
    },
    {
      "cell_type": "markdown",
      "source": [
        "9. Create a function that takes a full name as an argument and returns first name and last name."
      ],
      "metadata": {
        "id": "9fHaLGtCR9sP"
      }
    },
    {
      "cell_type": "code",
      "source": [
        "def fullname():\n",
        "  first_name = input('enter the first name')\n",
        "  last_name = input('enter the last name')\n",
        "  print(first_name, last_name)\n",
        "fullname()\n",
        ""
      ],
      "metadata": {
        "colab": {
          "base_uri": "https://localhost:8080/"
        },
        "id": "i2IM4DnuSxjS",
        "outputId": "f6dd103a-a83f-463e-dd9c-3c222e09fc3a"
      },
      "execution_count": 21,
      "outputs": [
        {
          "output_type": "stream",
          "name": "stdout",
          "text": [
            "enter the first namevasavi\n",
            "enter the last namelakkamraju\n",
            "vasavi lakkamraju\n"
          ]
        }
      ]
    }
  ]
}