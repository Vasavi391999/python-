{
  "nbformat": 4,
  "nbformat_minor": 0,
  "metadata": {
    "colab": {
      "provenance": []
    },
    "kernelspec": {
      "name": "python3",
      "display_name": "Python 3"
    },
    "language_info": {
      "name": "python"
    }
  },
  "cells": [
    {
      "cell_type": "markdown",
      "source": [
        "1. What is the role of the 'else' block in a try-except statement? Provide an example\n",
        "scenario where it would be useful.\n",
        "\n",
        "Ans: The try ... except statement has an optional else clause. An else block has to be positioned after all the except clauses. An else clause will be executed if the try clause doesn't raise an exception."
      ],
      "metadata": {
        "id": "9XcdXqO2pTDk"
      }
    },
    {
      "cell_type": "code",
      "source": [
        "def calculate_bmi(height, weight):\n",
        "    return weight / height**2\n",
        "\n",
        "\n",
        "def evaluate_bmi(bmi):\n",
        "    if 18.5 <= bmi <= 24.9:\n",
        "        return 'healthy'\n",
        "\n",
        "    if bmi >= 25:\n",
        "        return 'overweight'\n",
        "\n",
        "    return 'underweight'\n",
        "\n",
        "\n",
        "def main():\n",
        "    try:\n",
        "        height = float(input('Enter your height (meters):'))\n",
        "        weight = float(input('Enter your weight (kilograms):'))\n",
        "\n",
        "    except ValueError as error:\n",
        "        print(error)\n",
        "    else:\n",
        "        bmi = round(calculate_bmi(height, weight), 1)\n",
        "        evaluation = evaluate_bmi(bmi)\n",
        "\n",
        "        print(f'Your body mass index is {bmi}')\n",
        "        print(f'This is considered {evaluation}!')\n",
        "\n",
        "main()"
      ],
      "metadata": {
        "colab": {
          "base_uri": "https://localhost:8080/"
        },
        "id": "y2BsuI7ZrOpn",
        "outputId": "8365d5b0-e13a-46c7-ab7c-18dbcfb3f8cf"
      },
      "execution_count": 4,
      "outputs": [
        {
          "output_type": "stream",
          "name": "stdout",
          "text": [
            "Enter your height (meters):5.5\n",
            "Enter your weight (kilograms):50\n",
            "Your body mass index is 1.7\n",
            "This is considered underweight!\n"
          ]
        }
      ]
    },
    {
      "cell_type": "markdown",
      "source": [
        "2. Can a try-except block be nested inside another try-except block? Explain with an\n",
        "example."
      ],
      "metadata": {
        "id": "pYrvV5_Wrb9f"
      }
    },
    {
      "cell_type": "code",
      "source": [
        "try:\n",
        "\n",
        "    with open('sample.txt', 'r') as reader:\n",
        "        for line in reader.readlines():\n",
        "\n",
        "            try:\n",
        "                print(int(line))\n",
        "            except ValueError:\n",
        "                print('\\nLine error')\n",
        "                sys.exit()\n",
        "\n",
        "except:\n",
        "    print('\\nError: cannot read from the file')"
      ],
      "metadata": {
        "colab": {
          "base_uri": "https://localhost:8080/"
        },
        "id": "iyw5TMCLs8C0",
        "outputId": "ae844c5c-1320-449e-ca8e-899e6005e4ae"
      },
      "execution_count": 5,
      "outputs": [
        {
          "output_type": "stream",
          "name": "stdout",
          "text": [
            "\n",
            "Error: cannot read from the file\n"
          ]
        }
      ]
    },
    {
      "cell_type": "markdown",
      "source": [
        "3. How can you create a custom exception class in Python? Provide an example that\n",
        "demonstrates its usage.\n",
        "\n",
        "Ans: we can define custom exceptions by creating a new class that is derived from the built-in Exception class."
      ],
      "metadata": {
        "id": "kj8yMVs0tVq9"
      }
    },
    {
      "cell_type": "code",
      "source": [
        "class InvalidAgeException(Exception):\n",
        "    \"Raised when the input value is less than 25\"\n",
        "    pass\n",
        "\n",
        "number = 25\n",
        "\n",
        "try:\n",
        "    input_num = int(input(\"Enter a number: \"))\n",
        "    if input_num < number:\n",
        "        raise InvalidAgeException\n",
        "    else:\n",
        "        print(\"Eligible to Vote\")\n",
        "\n",
        "except InvalidAgeException:\n",
        "    print(\"Exception occurred: Invalid Age\")"
      ],
      "metadata": {
        "colab": {
          "base_uri": "https://localhost:8080/"
        },
        "id": "aNjVBixPtzWE",
        "outputId": "17a64ad9-ef32-4c21-879c-77004b526689"
      },
      "execution_count": 6,
      "outputs": [
        {
          "output_type": "stream",
          "name": "stdout",
          "text": [
            "Enter a number: 30\n",
            "Exception occurred: Invalid Age\n"
          ]
        }
      ]
    },
    {
      "cell_type": "markdown",
      "source": [
        "4. What are some common exceptions that are built-in to Python?\n",
        "\n",
        "Ans: Some of the commonly occurring built-in exceptions are SyntaxError, ValueError, IOError, KeyboardInterrupt, ImportError, EOFError, ZeroDivisionError, IndexError, NameError, IndentationError, TypeError,and OverFlowerror."
      ],
      "metadata": {
        "id": "Um7O88URuMrz"
      }
    },
    {
      "cell_type": "markdown",
      "source": [
        "5. What is logging in Python, and why is it important in software development?\n",
        "\n",
        "Ans: Logging is a way to store information about your script and track events that occur.\n",
        "\n",
        " When writing any complex script in Python, logging is essential for debugging software as you develop it.\n",
        "\n",
        "  Without logging, finding the source of a problem in your code may be extremely time consuming."
      ],
      "metadata": {
        "id": "zBA4pukfvy7J"
      }
    },
    {
      "cell_type": "markdown",
      "source": [
        "6. Explain the purpose of log levels in Python logging and provide examples of when\n",
        "each log level would be appropriate.\n",
        "\n",
        "Ans: A logging level is a way of classifying the entries in your log file in terms of urgency. Classifying helps filter your log files during search and helps control the amount of information in your logs. Sometimes, categorizing may require you to balance storage use.\n",
        "\n",
        "There are six log levels in python each level is associated with an integer that indicates level of severity\n",
        "\n",
        " 1. NOTSET = 0 :It defines that initial default setting of log when it is created\n",
        "\n",
        " 2. DEBUG = 10: It gives detail information used when the problem is being diagnoised\n",
        "\n",
        " 3. INFO = 20: Used to confirm that everything is working as it should\n",
        "\n",
        " 4. WARN = 30: It indicates that something unexpected has happened\n",
        "\n",
        " 5.ERROR = 40: Error has occured and software was unable to perform some function\n",
        "\n",
        " 6. CRITICAL = 50: Serious error has occured and the program itself may shutdown"
      ],
      "metadata": {
        "id": "wj8nYspBw2Ai"
      }
    },
    {
      "cell_type": "markdown",
      "source": [
        "7. What are log formatters in Python logging, and how can you customise the log\n",
        "message format using formatters?\n",
        "\n",
        "Ans: A formatter is created and added to the handler to transform log messages into placeholder data. In this formatter, the time of the log request (as an epoch timestamp), the logging level, the logger's name, the module name, and the log message will all print.\n",
        "\n",
        "Steps for creating a custom logger\n",
        "Step1: Create a logger. First we need to create a logger, which is nothing but an object to the logger class.\n",
        "\n",
        "Step2: Creating handler.\n",
        "\n",
        "Step3: Creating Formatter.\n",
        "\n",
        "Step4: Adding Formatter to Handler.\n",
        "\n",
        "Step5: Adding Handler object to the Logger.\n",
        "\n",
        "Step6: Writing the log messages"
      ],
      "metadata": {
        "id": "AWSr76SS2tnf"
      }
    },
    {
      "cell_type": "markdown",
      "source": [
        "8. How can you set up logging to capture log messages from multiple modules or\n",
        "classes in a Python application?\n",
        "\n",
        "Ans: following steps are used to set up logging to capture log messages from multiple modules\n",
        "\n",
        "1. Create and configure the logger.\n",
        "\n",
        "2. Here the format of the logger can also be set\n",
        "\n",
        "3. Also, the level of the logger can be set which acts as the threshold for tracking based on the numeric values assigned to each level."
      ],
      "metadata": {
        "id": "suceSGVu4YRC"
      }
    },
    {
      "cell_type": "code",
      "source": [
        "import logging\n",
        "\n",
        "# Create and configure logger\n",
        "logging.basicConfig(filename=\"newfile.log\",\n",
        "                    format='%(asctime)s %(message)s',\n",
        "                    filemode='w')\n",
        "\n",
        "# Creating an object\n",
        "logger = logging.getLogger()\n",
        "\n",
        "# Setting the threshold of logger to DEBUG\n",
        "logger.setLevel(logging.DEBUG)\n",
        "\n",
        "# Test messages\n",
        "logger.debug(\"Harmless debug Message\")\n",
        "logger.info(\"Just an information\")\n",
        "logger.warning(\"Its a Warning\")\n",
        "logger.error(\"Did you try to divide by zero\")\n",
        "logger.critical(\"Internet is down\")"
      ],
      "metadata": {
        "colab": {
          "base_uri": "https://localhost:8080/"
        },
        "id": "HhtS_Imt42io",
        "outputId": "115f2f64-8e66-4e33-e06e-45fe9fb61b08"
      },
      "execution_count": 17,
      "outputs": [
        {
          "output_type": "stream",
          "name": "stderr",
          "text": [
            "DEBUG:root:Harmless debug Message\n",
            "INFO:root:Just an information\n",
            "WARNING:root:Its a Warning\n",
            "ERROR:root:Did you try to divide by zero\n",
            "CRITICAL:root:Internet is down\n"
          ]
        }
      ]
    },
    {
      "cell_type": "markdown",
      "source": [
        "9. What is the difference between the logging and print statements in Python? When\n",
        "should you use logging over print statements in a real-world application?\n",
        "\n",
        "Ans: Logging : Record events and errors that occur during the execution of Python programs.\n",
        "\n",
        "2. Mainly used in the production environment.\n",
        "\n",
        "3. it provides different log levels such as Debug, Info, Error, Warning, and Critical.\n",
        "\n",
        "Print in python: Displays the information to the console for the debugging purposes.\n",
        "\n",
        "2. Mainly for debugging.\n",
        "\n",
        "3. It does not have any levels, it simply prints whatever is passed to it."
      ],
      "metadata": {
        "id": "EyVuYnuX5fSQ"
      }
    },
    {
      "cell_type": "markdown",
      "source": [
        "10. Write a Python program that logs a message to a file named \"app.log\" with the\n",
        "following requirements:\n",
        "● The log message should be \"Hello, World!\"\n",
        "● The log level should be set to \"INFO.\"\n",
        "● The log file should append new log entries without overwriting previous ones."
      ],
      "metadata": {
        "id": "toEGmzLX7itN"
      }
    },
    {
      "cell_type": "code",
      "source": [
        "import logging\n",
        "logging.basicConfig(filename=\"app.log\",\n",
        "\t\t\t\t\tformat='%(asctime)s %(message)s',\n",
        "\t\t\t\t\tfilemode='w')\n",
        "logger.setLevel(logging.INFO)\n",
        "logger.info(\"Hello world\")"
      ],
      "metadata": {
        "colab": {
          "base_uri": "https://localhost:8080/"
        },
        "id": "SqZ44Ejl7p3k",
        "outputId": "3234efe7-a6c4-4dde-ec93-019eae1a150d"
      },
      "execution_count": 19,
      "outputs": [
        {
          "output_type": "stream",
          "name": "stderr",
          "text": [
            "INFO:root:Hello world\n"
          ]
        }
      ]
    },
    {
      "cell_type": "markdown",
      "source": [
        "11. Create a Python program that logs an error message to the console and a file named\n",
        "\"errors.log\" if an exception occurs during the program's execution. The error\n",
        "message should include the exception type and a timestamp."
      ],
      "metadata": {
        "id": "hM3Q3sHL9ZDZ"
      }
    },
    {
      "cell_type": "code",
      "source": [
        "import logging\n",
        "logging.basicConfig(filename=\"errors.log\",\n",
        "\t\t\t\t\tformat='%(asctime)s %(message)s',\n",
        "\t\t\t\t\tfilemode='w')\n",
        "logger.setLevel(logging.ERROR)\n",
        "logger.error(\"Have you check the type of exception and a timestamp\")"
      ],
      "metadata": {
        "colab": {
          "base_uri": "https://localhost:8080/"
        },
        "id": "B_as7UFt9iI1",
        "outputId": "f04293a7-838f-4b0d-b059-9fdb762fe93c"
      },
      "execution_count": 20,
      "outputs": [
        {
          "output_type": "stream",
          "name": "stderr",
          "text": [
            "ERROR:root:Have you check the type of exception and a timestamp\n"
          ]
        }
      ]
    }
  ]
}