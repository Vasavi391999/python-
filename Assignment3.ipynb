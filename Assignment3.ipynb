{
  "nbformat": 4,
  "nbformat_minor": 0,
  "metadata": {
    "colab": {
      "provenance": []
    },
    "kernelspec": {
      "name": "python3",
      "display_name": "Python 3"
    },
    "language_info": {
      "name": "python"
    }
  },
  "cells": [
    {
      "cell_type": "markdown",
      "source": [
        "1. Why are functions advantageous to have in your programs?\n",
        "\n",
        "Ans: functions makes program shorter, and easier to read and easy to make modifications and update. The main advantage is code Reusability"
      ],
      "metadata": {
        "id": "y8NoWzy8UWbz"
      }
    },
    {
      "cell_type": "markdown",
      "source": [
        "2. When does the code in a function run: when it's specified or when it's called?\n",
        "\n",
        "Ans: when the function is called in a program the code in a function executes not when the function is specified"
      ],
      "metadata": {
        "id": "972P8cWbVBGn"
      }
    },
    {
      "cell_type": "markdown",
      "source": [
        "3. What statement creates a function?\n",
        "\n",
        "Ans: To create a function we use def statement"
      ],
      "metadata": {
        "id": "g4sZ2M0RVmDP"
      }
    },
    {
      "cell_type": "code",
      "source": [
        "def function_name(parameters):\n",
        "  \"function_docstring\"\n",
        "  function_suite\n",
        "  return[expression]"
      ],
      "metadata": {
        "id": "21DUuJshVyrQ"
      },
      "execution_count": 1,
      "outputs": []
    },
    {
      "cell_type": "markdown",
      "source": [
        "4. What is the difference between a function and a function call?\n",
        "\n",
        "Ans: A function is a peice of code that performs particular operations and gives the result. It usually input parameturs and return results.\n",
        "\n",
        "A function call is the code used to pass controls to function"
      ],
      "metadata": {
        "id": "QudP5BI3WivD"
      }
    },
    {
      "cell_type": "markdown",
      "source": [
        "5. How many global scopes are there in a Python program? How many local scopes?\n",
        "\n",
        "Ans: There is one global scope in python and local scope is created when we call a function"
      ],
      "metadata": {
        "id": "1-0X5DWUXzP0"
      }
    },
    {
      "cell_type": "markdown",
      "source": [
        "6. What happens to variables in a local scope when the function call returns?\n",
        "\n",
        "Ans: when the function call returns the local scope is destroyed and the variables in local scope are forgotten"
      ],
      "metadata": {
        "id": "mmiiZF5FYKlQ"
      }
    },
    {
      "cell_type": "markdown",
      "source": [
        "7. What is the concept of a return value? Is it possible to have a return value in an expression?\n",
        "\n",
        "Ans: A return value is the value that function call evaluates. A return value can be used as a part of an expression like any value"
      ],
      "metadata": {
        "id": "qZziia9gYiyk"
      }
    },
    {
      "cell_type": "markdown",
      "source": [
        "8. If a function does not have a return statement, what is the return value of a call to that function?\n",
        "\n",
        "Ans: If there is no return statement for a function it reurns value None."
      ],
      "metadata": {
        "id": "QUjl90L5Y_jS"
      }
    },
    {
      "cell_type": "markdown",
      "source": [
        "9. How do you make a function variable refer to the global variable?\n",
        "\n",
        "Ans: To refer global variable in a function we use global keyword to declare"
      ],
      "metadata": {
        "id": "y7qiZfebZWNP"
      }
    },
    {
      "cell_type": "markdown",
      "source": [
        "10. What is the data type of None?"
      ],
      "metadata": {
        "id": "tRGKlBdNZwnc"
      }
    },
    {
      "cell_type": "code",
      "source": [
        "type(None)"
      ],
      "metadata": {
        "colab": {
          "base_uri": "https://localhost:8080/"
        },
        "id": "WYV2tAj1Z5p3",
        "outputId": "273a0da5-f8f8-4e9b-fa70-321add8c7b02"
      },
      "execution_count": 2,
      "outputs": [
        {
          "output_type": "execute_result",
          "data": {
            "text/plain": [
              "NoneType"
            ]
          },
          "metadata": {},
          "execution_count": 2
        }
      ]
    },
    {
      "cell_type": "markdown",
      "source": [
        "11. What does the sentence import areallyourpetsnamederic do?\n",
        "\n",
        "Ans: import statement imports a module named areallyourpetsnamederic."
      ],
      "metadata": {
        "id": "i13x7l9aaDCa"
      }
    },
    {
      "cell_type": "markdown",
      "source": [
        "12. If you had a bacon() feature in a spam module, what would you call it after importing spam?\n",
        "\n",
        "Ans: we will call spam.bacon() function"
      ],
      "metadata": {
        "id": "Ey38oDTmaYr0"
      }
    },
    {
      "cell_type": "markdown",
      "source": [
        "13. What can you do to save a programme from crashing if it encounters an error?\n",
        "\n",
        "Ans: In a try clause place the line of code that might cause error and use except block to handle the error"
      ],
      "metadata": {
        "id": "DO37fFhzasBy"
      }
    },
    {
      "cell_type": "markdown",
      "source": [
        "14. What is the purpose of the try clause? What is the purpose of the except clause?\n",
        "\n",
        "Ans: If there is any error in code that goes to try clause\n",
        "\n",
        "the code executes if the error happens goes to except clause"
      ],
      "metadata": {
        "id": "E94ZjmvhbE0s"
      }
    }
  ]
}