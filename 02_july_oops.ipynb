{
  "nbformat": 4,
  "nbformat_minor": 0,
  "metadata": {
    "colab": {
      "provenance": []
    },
    "kernelspec": {
      "name": "python3",
      "display_name": "Python 3"
    },
    "language_info": {
      "name": "python"
    }
  },
  "cells": [
    {
      "cell_type": "markdown",
      "source": [
        "1. Explain what inheritance is in object-oriented programming and why it is used.\n",
        "\n",
        "Ans: It is a mechanism that allows a class to inherit properities and behaviour from another class\n",
        "\n",
        "It promotes code reuse and establishes relationship between classes"
      ],
      "metadata": {
        "id": "D-tWpS8zqAad"
      }
    },
    {
      "cell_type": "markdown",
      "source": [
        "2. Discuss the concept of single inheritance and multiple inheritance, highlighting their\n",
        "differences and advantages.\n",
        "\n",
        "Ans: single inheritance: 1. Derived class inherits only a single base class\n",
        "\n",
        "2. It is safer than multiple inheritance\n",
        "\n",
        "3. Features of a single class is inherited\n",
        "\n",
        "4. It requires more run time\n",
        "\n",
        "Multiple inheritance: 1. Derived class inherits only more than one base class\n",
        "\n",
        "2. These are not safe to implement\n",
        "\n",
        "3. Features of multiple classes can be inherited\n",
        "\n",
        "4. Requires less runtime"
      ],
      "metadata": {
        "id": "cfi9XA5zrlfY"
      }
    },
    {
      "cell_type": "markdown",
      "source": [
        "3. Explain the terms \"base class\" and \"derived class\" in the context of inheritance.\n",
        "\n",
        "Ans: Parent class is the class being inherited from, also called base class\n",
        "\n",
        "Child class is the class that inherits from another class, also called derived class.\n",
        "\n"
      ],
      "metadata": {
        "id": "1fCFSAPcttaM"
      }
    },
    {
      "cell_type": "code",
      "source": [
        "# base class\n",
        "class Person:\n",
        "  def __init__(self, fname, lname):\n",
        "    self.firstname = fname\n",
        "    self.lastname = lname\n",
        "\n",
        "  def printname(self):\n",
        "    print(self.firstname, self.lastname)\n",
        "\n",
        "x = Person(\"vasavi\", \"lakkamraju\")\n",
        "x.printname()\n",
        "\n"
      ],
      "metadata": {
        "colab": {
          "base_uri": "https://localhost:8080/"
        },
        "id": "BjdkZEhWugyb",
        "outputId": "f98ac440-10c7-4fd7-a84c-65e6833af9ba"
      },
      "execution_count": null,
      "outputs": [
        {
          "output_type": "stream",
          "name": "stdout",
          "text": [
            "vasavi lakkamraju\n"
          ]
        }
      ]
    },
    {
      "cell_type": "code",
      "source": [
        "class Student(Person):\n",
        "  pass"
      ],
      "metadata": {
        "id": "MDmrAvP9uZhG"
      },
      "execution_count": null,
      "outputs": []
    },
    {
      "cell_type": "markdown",
      "source": [
        "4. What is the significance of the \"protected\" access modifier in inheritance? How does\n",
        "it differ from \"private\" and \"public\" modifiers?\n",
        "\n",
        "Ans: Protected access modifier is similar to that of private access modifiers.protected access modifier can be accessed within the class and from the class that inherits the protected class. In python, protected members and methods are declared using single underscore(‘_’) as prefix before their names.If the class member declared as public then it can be accessed everywhere. If the class members declared as protected then it can be accessed only within the class itself and by inheriting child classes. If the class members declared as private then it may only be accessed by the class that defines the member"
      ],
      "metadata": {
        "id": "eIpJ-MnfvLhH"
      }
    },
    {
      "cell_type": "markdown",
      "source": [
        "5. What is the purpose of the \"super\" keyword in inheritance? Provide an example.\n",
        "\n",
        "Ans: A method from a parent class can be called in Python using the super() function."
      ],
      "metadata": {
        "id": "-YKvbQj0w5VJ"
      }
    },
    {
      "cell_type": "code",
      "source": [
        "class Emp():\n",
        "    def __init__(self, id, name, Add):\n",
        "        self.id = id\n",
        "        self.name = name\n",
        "        self.Add = Add\n",
        "\n",
        "# Class freelancer inherits EMP\n",
        "class Freelance(Emp):\n",
        "    def __init__(self, id, name, Add, Emails):\n",
        "        super().__init__(id, name, Add)\n",
        "        self.Emails = Emails\n",
        "\n",
        "Emp_1 = Freelance(103, \"chinnu\", \"Infosys\" , \"chinnu@gmails\")\n",
        "print('The ID is:', Emp_1.id)\n",
        "print('The Name is:', Emp_1.name)\n",
        "print('The Address is:', Emp_1.Add)\n",
        "print('The Emails is:', Emp_1.Emails)"
      ],
      "metadata": {
        "colab": {
          "base_uri": "https://localhost:8080/"
        },
        "id": "_7O7PtHxx2FW",
        "outputId": "e5f87676-f108-48a7-92f2-5553af36f8a4"
      },
      "execution_count": null,
      "outputs": [
        {
          "output_type": "stream",
          "name": "stdout",
          "text": [
            "The ID is: 103\n",
            "The Name is: chinnu\n",
            "The Address is: Infosys\n",
            "The Emails is: chinnu@gmails\n"
          ]
        }
      ]
    },
    {
      "cell_type": "markdown",
      "source": [
        "6. Create a base class called \"Vehicle\" with attributes like \"make\", \"model\", and \"year\".\n",
        "Then, create a derived class called \"Car\" that inherits from \"Vehicle\" and adds an\n",
        "attribute called \"fuel_type\". Implement appropriate methods in both classes."
      ],
      "metadata": {
        "id": "3OmUdIfUyVP4"
      }
    },
    {
      "cell_type": "code",
      "source": [
        "class Vehicle:\n",
        "    def __init__(self, make, model, year):\n",
        "        self.make = make\n",
        "        self.model = model\n",
        "        self.year = year\n",
        "class car:\n",
        "  def __init__(self, fuel_type):\n",
        "    self.type = type\n",
        "  def fuel_type(self):\n",
        "    self.fuel_type = self.type\n",
        "    print('type of fuel is')\n",
        "\n"
      ],
      "metadata": {
        "id": "Err4pXWiOyHR"
      },
      "execution_count": 16,
      "outputs": []
    },
    {
      "cell_type": "markdown",
      "source": [
        "7. Create a base class called \"Employee\" with attributes like \"name\" and \"salary.\"\n",
        "Derive two classes, \"Manager\" and \"Developer,\" from \"Employee.\" Add an additional\n",
        "attribute called \"department\" for the \"Manager\" class and \"programming_language\"\n",
        "for the \"Developer\" class."
      ],
      "metadata": {
        "id": "aTIIZjhzIvMt"
      }
    },
    {
      "cell_type": "code",
      "source": [
        "class Employee:\n",
        "    def __init__(self, name, emp_id, salary, department):\n",
        "        self.name = name\n",
        "        self.id = emp_id\n",
        "        self.salary = salary\n",
        "        self.department = department\n",
        "\n",
        "    def calculate_salary(self, salary, hours_worked):\n",
        "        overtime = 0\n",
        "        if hours_worked > 50:\n",
        "            overtime = hours_worked - 50\n",
        "        self.salary = self.salary + (overtime * (self.salary / 50))\n",
        "\n",
        "    def assign_department(self, emp_department):\n",
        "        self.department = emp_department\n",
        "\n",
        "    def print_employee_details(self):\n",
        "        print(\"\\nName: \", self.name)\n",
        "        print(\"ID: \", self.id)\n",
        "        print(\"Salary: \", self.salary)\n",
        "        print(\"Department: \", self.department)\n",
        "        print(\"----------------------\")\n"
      ],
      "metadata": {
        "id": "LxvAsgO4M3-i"
      },
      "execution_count": 13,
      "outputs": []
    },
    {
      "cell_type": "markdown",
      "source": [
        "8. Design a base class called \"Shape\" with attributes like \"colour\" and \"border_width.\"\n",
        "Create derived classes, \"Rectangle\" and \"Circle,\" that inherit from \"Shape\" and add\n",
        "specific attributes like \"length\" and \"width\" for the \"Rectangle\" class and \"radius\" for\n",
        "the \"Circle\" class."
      ],
      "metadata": {
        "id": "VPpwKmZsQBz9"
      }
    },
    {
      "cell_type": "code",
      "source": [
        "class shape:\n",
        "  def __init__(self):\n",
        "    self.colour=colour\n",
        "    self.border_width=border_width\n",
        "class Rectangle(shape):\n",
        "  def __init__(self):\n",
        "        self.shape = 'rectangle'\n",
        "        self.side_lengths = [3,3,3,3]\n",
        "class circle(shape):\n",
        "  def __init__(self):\n",
        "    self.shape = 'circle'\n",
        "    self.radius = 3.114"
      ],
      "metadata": {
        "id": "hW1GA-JcQpJR"
      },
      "execution_count": 20,
      "outputs": []
    },
    {
      "cell_type": "markdown",
      "source": [
        "9. Create a base class called \"Device\" with attributes like \"brand\" and \"model.\" Derive\n",
        "two classes, \"Phone\" and \"Tablet,\" from \"Device.\" Add specific attributes like\n",
        "\"screen_size\" for the \"Phone\" class and \"battery_capacity\" for the \"Tablet\" class."
      ],
      "metadata": {
        "id": "aerVspC1RzxE"
      }
    },
    {
      "cell_type": "code",
      "source": [
        "class device:\n",
        "  def __init__(self):\n",
        "    self.brand = brand\n",
        "    self.model = model\n",
        "class phone(device):\n",
        "  def __init__(self):\n",
        "    self.screen_size = screen_size\n",
        "class tablet(device):\n",
        "  def __init__(self):\n",
        "    self.battery_capacity=battery_capacity\n",
        "\n",
        "  def print_device_details(self):\n",
        "      print('brand of the device')\n",
        "      print('model of the device')\n",
        "      print('screen size of the device')\n",
        "      print('battery capacity of the device')"
      ],
      "metadata": {
        "id": "mBtGNbNMSEuz"
      },
      "execution_count": 25,
      "outputs": []
    },
    {
      "cell_type": "markdown",
      "source": [
        "10 . Create a base class called \"BankAccount\" with attributes like \"account_number\" and\n",
        "\"balance.\" Derive two classes, \"SavingsAccount\" and \"CheckingAccount,\" from\n",
        "\"BankAccount.\" Add specific methods like \"calculate_interest\" for the\n",
        "\"SavingsAccount\" class and \"deduct_fees\" for the \"CheckingAccount\" class."
      ],
      "metadata": {
        "id": "5hwLkQcUU1Wc"
      }
    },
    {
      "cell_type": "code",
      "source": [
        "class BankAccount:\n",
        "    def __init__(self,accountNumber, name, balance):\n",
        "        self.accountNumber = accountNumber\n",
        "        self.name = name\n",
        "        self.balance = balance\n",
        "\n",
        "    def Deposit(self , d ):\n",
        "        self.balance = self.balance + d\n",
        "\n",
        "    def Withdrawal(self , w):\n",
        "        if(self.balance < w):\n",
        "            print(\"impossible operation! Insufficient balance !\")\n",
        "        else:\n",
        "            self.balance = self.balance - w\n",
        "\n",
        "    def bankFees(self):\n",
        "        self.balance = (95/100)*self.balance\n",
        "\n",
        "    def display(self):\n",
        "        print(\"Account Number : \" , self.accountNumber)\n",
        "        print(\"Account Name : \" , self.name)\n",
        "        print(\"Account Balance : \" , self.balance , \" $\")\n",
        ""
      ],
      "metadata": {
        "id": "hFo1Q3GxU68n"
      },
      "execution_count": 26,
      "outputs": []
    }
  ]
}