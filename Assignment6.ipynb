{
  "nbformat": 4,
  "nbformat_minor": 0,
  "metadata": {
    "colab": {
      "provenance": []
    },
    "kernelspec": {
      "name": "python3",
      "display_name": "Python 3"
    },
    "language_info": {
      "name": "python"
    }
  },
  "cells": [
    {
      "cell_type": "markdown",
      "source": [
        "1. What are keywords in python? Using the keyword library, print all the python keywords.\n"
      ],
      "metadata": {
        "id": "HOrxK-hyhjVu"
      }
    },
    {
      "cell_type": "code",
      "source": [
        "help(\"keywords\")"
      ],
      "metadata": {
        "colab": {
          "base_uri": "https://localhost:8080/"
        },
        "id": "Wf9kpqEiiHyV",
        "outputId": "0206ff30-954c-48a3-e914-34ddf19f90f2"
      },
      "execution_count": 1,
      "outputs": [
        {
          "output_type": "stream",
          "name": "stdout",
          "text": [
            "\n",
            "Here is a list of the Python keywords.  Enter any keyword to get more help.\n",
            "\n",
            "False               class               from                or\n",
            "None                continue            global              pass\n",
            "True                def                 if                  raise\n",
            "and                 del                 import              return\n",
            "as                  elif                in                  try\n",
            "assert              else                is                  while\n",
            "async               except              lambda              with\n",
            "await               finally             nonlocal            yield\n",
            "break               for                 not                 \n",
            "\n"
          ]
        }
      ]
    },
    {
      "cell_type": "markdown",
      "source": [
        "2. What are the rules to create variables in python?\n",
        "\n",
        "Ans: variable can consist of uppercase, lowercase, digits, and underscores. Variable name do not start with digit. Variables are case sensitive"
      ],
      "metadata": {
        "id": "VjJ-jViHjKzL"
      }
    },
    {
      "cell_type": "markdown",
      "source": [
        "3. What are the standards and conventions followed for the nomenclature of variables in\n",
        "python to improve code readability and maintainability?\n",
        "\n",
        "Ans: To improve code readability and maintainability we use some rules\n",
        "\n",
        " variable can consist of uppercase, lowercase, digits, and underscores\n",
        "\n",
        "  Variable name do not start with digit\n",
        "\n",
        "   Variables are case sensitive"
      ],
      "metadata": {
        "id": "YbAEA3GvjuVr"
      }
    },
    {
      "cell_type": "markdown",
      "source": [
        "4. What will happen if a keyword is used as a variable name?\n",
        "\n",
        "Ans: If a keyword is used as a variable name we will get syntax error"
      ],
      "metadata": {
        "id": "7FVZ5A5vmZve"
      }
    },
    {
      "cell_type": "markdown",
      "source": [
        "5. For what purpose def keyword is used?\n",
        "\n",
        "Ans: to define a function we use function keyword. It is placed before function"
      ],
      "metadata": {
        "id": "IpyTD4OSncRY"
      }
    },
    {
      "cell_type": "code",
      "source": [
        "def python_def_keyword():\n",
        "  print(\"Hello\")\n",
        "python_def_keyword()"
      ],
      "metadata": {
        "colab": {
          "base_uri": "https://localhost:8080/"
        },
        "id": "721KGzjHn3rm",
        "outputId": "a36a5022-81d7-47b3-eeda-ab407ab7f717"
      },
      "execution_count": 2,
      "outputs": [
        {
          "output_type": "stream",
          "name": "stdout",
          "text": [
            "Hello\n"
          ]
        }
      ]
    },
    {
      "cell_type": "markdown",
      "source": [
        "6. What is the operation of this special character ‘\\’?\n",
        "\n",
        "Ans: it is used to represent whitespace characters"
      ],
      "metadata": {
        "id": "SW9wlGG4oPRm"
      }
    },
    {
      "cell_type": "code",
      "source": [
        "print('apple\\torange')"
      ],
      "metadata": {
        "colab": {
          "base_uri": "https://localhost:8080/"
        },
        "id": "_bic809Qowe1",
        "outputId": "e3d3154a-6e49-4954-a582-73e9b22b971b"
      },
      "execution_count": 4,
      "outputs": [
        {
          "output_type": "stream",
          "name": "stdout",
          "text": [
            "apple\torange\n"
          ]
        }
      ]
    },
    {
      "cell_type": "markdown",
      "source": [
        "7. Give an example of the following conditions:\n",
        "(i) Homogeneous list\n",
        "(ii) Heterogeneous set\n",
        "(iii) Homogeneous tuple"
      ],
      "metadata": {
        "id": "8e1rvCWopHJR"
      }
    },
    {
      "cell_type": "code",
      "source": [
        "# Heterogeneous set\n",
        "myset = {\"Greeks\", \"for\", 10, True}\n",
        "print(myset)"
      ],
      "metadata": {
        "colab": {
          "base_uri": "https://localhost:8080/"
        },
        "id": "ErkAHyeFpROZ",
        "outputId": "9d5483fd-2427-410b-d086-34e4e7c50cd8"
      },
      "execution_count": 5,
      "outputs": [
        {
          "output_type": "stream",
          "name": "stdout",
          "text": [
            "{True, 10, 'Greeks', 'for'}\n"
          ]
        }
      ]
    },
    {
      "cell_type": "code",
      "source": [
        "age = [10,20,30]\n",
        "print(age)"
      ],
      "metadata": {
        "colab": {
          "base_uri": "https://localhost:8080/"
        },
        "id": "L7wg34M5sCL-",
        "outputId": "e616c941-a6a9-440c-af54-f263dafdbec0"
      },
      "execution_count": 6,
      "outputs": [
        {
          "output_type": "stream",
          "name": "stdout",
          "text": [
            "[10, 20, 30]\n"
          ]
        }
      ]
    },
    {
      "cell_type": "markdown",
      "source": [
        "8. Explain the mutable and immutable data types with proper explanation & examples.\n",
        "\n",
        "Ans: mutable data types are list, dictionary, set which means that we can change or modify the object once it is created.\n",
        "\n",
        "ummutable datatypes are tuples which we cannot change any value or we cannot perform any operation in it once it is created"
      ],
      "metadata": {
        "id": "9xQ3G3JxsKVT"
      }
    },
    {
      "cell_type": "code",
      "source": [
        "tuple = (\"vasavi\", \"lakkamraju\")\n",
        "print(tuple)"
      ],
      "metadata": {
        "colab": {
          "base_uri": "https://localhost:8080/"
        },
        "id": "KCg3C9krtudr",
        "outputId": "cd1e3781-acc1-4aed-a8cb-8d8779c1f24f"
      },
      "execution_count": 9,
      "outputs": [
        {
          "output_type": "stream",
          "name": "stdout",
          "text": [
            "('vasavi', 'lakkamraju')\n"
          ]
        }
      ]
    },
    {
      "cell_type": "code",
      "source": [
        "tuple[1]=10"
      ],
      "metadata": {
        "colab": {
          "base_uri": "https://localhost:8080/",
          "height": 165
        },
        "id": "_2iullCQt30Q",
        "outputId": "fc6a1193-faa6-4df2-fdf6-4a2883158770"
      },
      "execution_count": 11,
      "outputs": [
        {
          "output_type": "error",
          "ename": "TypeError",
          "evalue": "ignored",
          "traceback": [
            "\u001b[0;31m---------------------------------------------------------------------------\u001b[0m",
            "\u001b[0;31mTypeError\u001b[0m                                 Traceback (most recent call last)",
            "\u001b[0;32m<ipython-input-11-579e32ae16bc>\u001b[0m in \u001b[0;36m<cell line: 1>\u001b[0;34m()\u001b[0m\n\u001b[0;32m----> 1\u001b[0;31m \u001b[0mtuple\u001b[0m\u001b[0;34m[\u001b[0m\u001b[0;36m1\u001b[0m\u001b[0;34m]\u001b[0m\u001b[0;34m=\u001b[0m\u001b[0;36m10\u001b[0m\u001b[0;34m\u001b[0m\u001b[0;34m\u001b[0m\u001b[0m\n\u001b[0m",
            "\u001b[0;31mTypeError\u001b[0m: 'tuple' object does not support item assignment"
          ]
        }
      ]
    },
    {
      "cell_type": "code",
      "source": [
        "list_1 = [10, 20, 30]\n",
        "print(list_1)"
      ],
      "metadata": {
        "colab": {
          "base_uri": "https://localhost:8080/"
        },
        "id": "WhIRrAhGtAVE",
        "outputId": "945feb3f-22f5-4dd6-dc0a-e30765051639"
      },
      "execution_count": 7,
      "outputs": [
        {
          "output_type": "stream",
          "name": "stdout",
          "text": [
            "[10, 20, 30]\n"
          ]
        }
      ]
    },
    {
      "cell_type": "code",
      "source": [
        "list_1.append(10)\n",
        "print(list_1)"
      ],
      "metadata": {
        "colab": {
          "base_uri": "https://localhost:8080/"
        },
        "id": "RVfqr8H3tOxg",
        "outputId": "de7ca7a0-22f5-4332-e1f6-7dcca2599e34"
      },
      "execution_count": 8,
      "outputs": [
        {
          "output_type": "stream",
          "name": "stdout",
          "text": [
            "[10, 20, 30, 10]\n"
          ]
        }
      ]
    },
    {
      "cell_type": "markdown",
      "source": [
        "9. Write a code to create the given structure using only for loop.\n",
        "    *\n",
        "   ***\n",
        "  *****\n",
        " *******\n",
        "**********\n",
        "\n",
        "\n"
      ],
      "metadata": {
        "id": "eTy2cih4uWwp"
      }
    },
    {
      "cell_type": "code",
      "source": [
        "num_rows = int(input(\"Enter the number of rows\"));\n",
        "for i in range(0, num_rows):\n",
        "\tfor j in range(0, num_rows-i-1):\n",
        "\t\tprint(end=\" \")\n",
        "\tfor j in range(0, i+1):\n",
        "\t\tprint(\"*\", end=\" \")\n",
        "\tprint()"
      ],
      "metadata": {
        "colab": {
          "base_uri": "https://localhost:8080/"
        },
        "id": "5Zv8Owymuvdv",
        "outputId": "d7b55323-9ed6-4bcc-ba10-2ea11d9834da"
      },
      "execution_count": 13,
      "outputs": [
        {
          "output_type": "stream",
          "name": "stdout",
          "text": [
            "Enter the number of rows6\n",
            "     * \n",
            "    * * \n",
            "   * * * \n",
            "  * * * * \n",
            " * * * * * \n",
            "* * * * * * \n"
          ]
        }
      ]
    },
    {
      "cell_type": "markdown",
      "source": [
        "10. Write a code to create the given structure using while loop."
      ],
      "metadata": {
        "id": "PbSiiQ04vrCl"
      }
    },
    {
      "cell_type": "code",
      "source": [
        "n = int(input('Enter number of rows : '))\n",
        "\n",
        "i = 1\n",
        "while i <= n :\n",
        "    j = n\n",
        "    while j >= i:\n",
        "        print(\"|\", end = \" \")\n",
        "        j -= 1\n",
        "    print()\n",
        "    i += 1"
      ],
      "metadata": {
        "colab": {
          "base_uri": "https://localhost:8080/"
        },
        "id": "U8W52b8Lv_hZ",
        "outputId": "144f82ed-a986-40e7-c040-c9143fbbb749"
      },
      "execution_count": 19,
      "outputs": [
        {
          "output_type": "stream",
          "name": "stdout",
          "text": [
            "Enter number of rows : 6\n",
            "| | | | | | \n",
            "| | | | | \n",
            "| | | | \n",
            "| | | \n",
            "| | \n",
            "| \n"
          ]
        }
      ]
    }
  ]
}