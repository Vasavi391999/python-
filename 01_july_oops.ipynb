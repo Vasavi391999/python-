{
  "nbformat": 4,
  "nbformat_minor": 0,
  "metadata": {
    "colab": {
      "provenance": []
    },
    "kernelspec": {
      "name": "python3",
      "display_name": "Python 3"
    },
    "language_info": {
      "name": "python"
    }
  },
  "cells": [
    {
      "cell_type": "markdown",
      "source": [
        "1. What is the primary goal of Object-Oriented Programming (OOP)?\n",
        "\n",
        "Ans:There are mainly three goals of oops they are Robustness, Adaptability, Reusability\n",
        "\n",
        "Robustness:\n",
        "\n",
        "complex programs should operation correctly\n",
        "\n",
        "should deal with improper input and conditions\n",
        "\n",
        "Adaptability:\n",
        "\n",
        "Software grows a long difference\n",
        "\n",
        "may run on different generations and makes of hardware\n",
        "\n",
        "Reusability:\n",
        "\n",
        "Building from reusable pieces aviods reinventing the wheel"
      ],
      "metadata": {
        "id": "-tZgKlk6I3qg"
      }
    },
    {
      "cell_type": "markdown",
      "source": [
        "2. What is an object in Python?\n",
        "\n",
        "Ans: An object is an instance of class. python objects are basically an encapsulation of data variables and methods acting on the data into a single entity"
      ],
      "metadata": {
        "id": "Mq7RLabSMBsK"
      }
    },
    {
      "cell_type": "code",
      "source": [
        "class Test:\n",
        "  def __init__(Myobject, a, b):\n",
        "    Myobject.name = a\n",
        "    Myobject.surname = b\n",
        "\n",
        "  def myfunc(abc):\n",
        "    print(\"surname of  \" + abc.name +\" is:\"+abc.surname)\n",
        "\n",
        "x = Test(\"vasavi\", \"lakkamraju\")\n",
        "x.myfunc()"
      ],
      "metadata": {
        "colab": {
          "base_uri": "https://localhost:8080/"
        },
        "id": "Iml3cGg3Ne37",
        "outputId": "54f26692-757f-422f-b0f1-59075773e7a2"
      },
      "execution_count": null,
      "outputs": [
        {
          "output_type": "stream",
          "name": "stdout",
          "text": [
            "surname of  vasavi is:lakkamraju\n"
          ]
        }
      ]
    },
    {
      "cell_type": "markdown",
      "source": [
        "3. What is a class in Python?\n",
        "\n",
        "Ans: A class is a user-defined blueprint or prototype from which objects are created. Classes provide a means of bundling data and functionality together. Creating a new class creates a new type of object, allowing new instances of that type to be made. Each class instance can have attributes attached to it for maintaining its state. Class instances can also have methods (defined by their class) for modifying their state."
      ],
      "metadata": {
        "id": "GN72yc6HOCNl"
      }
    },
    {
      "cell_type": "code",
      "source": [
        "class Dog:\n",
        "    sound = \"bark\""
      ],
      "metadata": {
        "id": "XSa-3d68OnxU"
      },
      "execution_count": null,
      "outputs": []
    },
    {
      "cell_type": "markdown",
      "source": [
        "4. What are attributes and methods in a class?\n",
        "\n",
        "Ans: attribute: A value associated with an object which is referenced by name using dotted expressions. For example, if an object o has an attribute a it would be referenced as o.a. attributes can broadly divided into instance and class variables.\n",
        "\n",
        "method: A function which is defined inside a class body. If called as an attribute of an instance of that class, the method will get the instance object as its first argument (which is usually called self). methods can be broadly classified into three types: Standard method, Class method and Static method\n",
        "\n"
      ],
      "metadata": {
        "id": "UB8_6QwzO7tI"
      }
    },
    {
      "cell_type": "markdown",
      "source": [
        "5. What is the difference between class variables and instance variables in Python?\n",
        "\n",
        "Ans: class variables: 1.defined within the class but outside of any class methods\n",
        "\n",
        "2. changes made to the class variable affect all instances\n",
        "\n",
        "3. Can be initialized either inside or outside the class definition\n",
        "\n",
        "4. Accessed using claaname, followed by variable name\n",
        "\n",
        "5. Used to store data that is shared among all instances of class\n",
        "\n",
        "Instance variables: 1.Define within class methods\n",
        "\n",
        "2. Changes made to instance variable does not affect all instances\n",
        "\n",
        "3. Initialized in the constructor of the class\n",
        "\n",
        "4. Accessed using the instance name followed by variable name\n",
        "\n",
        "5. used to store data that is unique to each instance of a class"
      ],
      "metadata": {
        "id": "HSXPDDhoRG9C"
      }
    },
    {
      "cell_type": "markdown",
      "source": [
        "6. What is the purpose of the self parameter in Python class methods?\n",
        "\n",
        "Ans: we define methods for a class, we use self as the first parameter in each case.self represents the instance of the class. By using the “self” we can access the attributes and methods of the class in python"
      ],
      "metadata": {
        "id": "Qm0DfbuiVI7L"
      }
    },
    {
      "cell_type": "code",
      "source": [
        "class Cat:\n",
        "    def __init__(self, name, age):\n",
        "        self.name = name\n",
        "        self.age = age\n",
        "\n",
        "    def info(self):\n",
        "        print(f\"I am a cat. My name is {self.name}. I am {self.age} years old.\")\n",
        "\n",
        "    def make_sound(self):\n",
        "        print(\"Meow\")\n"
      ],
      "metadata": {
        "id": "qVSseUC8WAH1"
      },
      "execution_count": null,
      "outputs": []
    },
    {
      "cell_type": "markdown",
      "source": [
        "7. For a library management system, you have to design the \"Book\" class with OOP\n",
        "principles in mind. The “Book” class will have following attributes:\n",
        "a. title: Represents the title of the book.\n",
        "b. author: Represents the author(s) of the book.\n",
        "c. isbn: Represents the ISBN (International Standard Book Number) of the book.\n",
        "d. publication_year: Represents the year of publication of the book.\n",
        "e. available_copies: Represents the number of copies available for checkout.\n",
        "The class will also include the following methods:\n",
        "a. check_out(self): Decrements the available copies by one if there are copies\n",
        "available for checkout.\n",
        "b. return_book(self): Increments the available copies by one when a book is\n",
        "returned.\n",
        "c. display_book_info(self): Displays the information about the book, including its\n",
        "attributes and the number of available copies.\n"
      ],
      "metadata": {
        "id": "MQfm_tXJWpYn"
      }
    },
    {
      "cell_type": "code",
      "source": [
        "from abc import ABC\n",
        "\n",
        "\n",
        "class Search(ABC):\n",
        "    def search_by_title(self, title):\n",
        "        None\n",
        "\n",
        "    def search_by_author(self, author):\n",
        "        None\n",
        "\n",
        "    def search_by_subject(self, subject):\n",
        "        None\n",
        "\n",
        "    def search_by_pub_date(self, publish_date):\n",
        "        None\n",
        "\n",
        "\n",
        "class Catalog(Search):\n",
        "    def __init__(self):\n",
        "        self.__book_titles = {}\n",
        "        self.__book_authors = {}\n",
        "        self.__book_subjects = {}\n",
        "        self.__book_publication_dates = {}\n",
        "\n",
        "    def search_by_title(self, query):\n",
        "        # return all books containing the string query in their title.\n",
        "        return self.__book_titles.get(query)\n",
        "\n",
        "    def search_by_author(self, query):\n",
        "        # return all books containing the string query in their author's name.\n",
        "        return self.__book_authors.get(query)"
      ],
      "metadata": {
        "id": "mRyvriJ4lDsU"
      },
      "execution_count": 1,
      "outputs": []
    },
    {
      "cell_type": "markdown",
      "source": [
        "8. For a ticket booking system, you have to design the \"Ticket\" class with OOP\n",
        "principles in mind. The “Ticket” class should have the following attributes:\n",
        "a. ticket_id: Represents the unique identifier for the ticket.\n",
        "b. event_name: Represents the name of the event.\n",
        "c. event_date: Represents the date of the event.\n",
        "d. venue: Represents the venue of the event.\n",
        "e. seat_number: Represents the seat number associated with the ticket.\n",
        "f. price: Represents the price of the ticket.\n",
        "g. is_reserved: Represents the reservation status of the ticket.\n",
        "The class also includes the following methods:\n",
        "a. reserve_ticket(self): Marks the ticket as reserved if it is not already reserved.\n",
        "b. cancel_reservation(self): Cancels the reservation of the ticket if it is already\n",
        "reserved.\n",
        "c. display_ticket_info(self): Displays the information about the ticket, including its\n",
        "attributes and reservation status."
      ],
      "metadata": {
        "id": "5s8BCIVHYiz-"
      }
    },
    {
      "cell_type": "code",
      "source": [
        "from datetime import datetime\n",
        "\n",
        "\n",
        "class Booking:\n",
        "    def __init__(self, booking_number, number_of_seats, status, show, show_seats, payment):\n",
        "        self.__booking_number = booking_number\n",
        "        self.__number_of_seats = number_of_seats\n",
        "        self.__created_on = datetime.date.today()\n",
        "        self.__status = status\n",
        "        self.__show = show\n",
        "        self.__seats = show_seats\n",
        "        self.__payment = payment\n",
        "\n",
        "    def make_payment(self, payment):\n",
        "        None\n",
        "\n",
        "    def cancel(self):\n",
        "        None\n",
        "\n",
        "    def assign_seats(self, seats):\n",
        "        None\n",
        "\n",
        "\n",
        "class ShowSeat():\n",
        "    def __init__(self, id, is_reserved, price):\n",
        "        self.__show_seat_id = id\n",
        "        self.__is_reserved = is_reserved\n",
        "        self.__price = price\n",
        "\n",
        "\n",
        "class Payment:\n",
        "    def __init__(self, amount, transaction_id, payment_status):\n",
        "        self.__amount = amount\n",
        "        self.__created_on = datetime.date.today()\n",
        "        self.__transaction_id = transaction_id\n",
        "        self.__status = payment_status\n"
      ],
      "metadata": {
        "id": "4L1uOGCVpHcG"
      },
      "execution_count": 10,
      "outputs": []
    }
  ]
}