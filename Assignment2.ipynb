{
  "nbformat": 4,
  "nbformat_minor": 0,
  "metadata": {
    "colab": {
      "provenance": []
    },
    "kernelspec": {
      "name": "python3",
      "display_name": "Python 3"
    },
    "language_info": {
      "name": "python"
    }
  },
  "cells": [
    {
      "cell_type": "markdown",
      "source": [
        "1. What are the two values of the Boolean data type? How do you write them?\n",
        "\n",
        "Ans: The two values of the Boolean data type are True and False. we represent first letter as capital and rest of letters in lowercase\n"
      ],
      "metadata": {
        "id": "T3dcA-xFxvEY"
      }
    },
    {
      "cell_type": "code",
      "source": [
        "a = True\n",
        "print(a, type(a))"
      ],
      "metadata": {
        "colab": {
          "base_uri": "https://localhost:8080/"
        },
        "id": "QyfqmbVgyqwu",
        "outputId": "b798cb81-788e-452b-8239-ca4e9107ff3c"
      },
      "execution_count": 1,
      "outputs": [
        {
          "output_type": "stream",
          "name": "stdout",
          "text": [
            "True <class 'bool'>\n"
          ]
        }
      ]
    },
    {
      "cell_type": "code",
      "source": [
        "b = False\n",
        "print(b, type(b))"
      ],
      "metadata": {
        "colab": {
          "base_uri": "https://localhost:8080/"
        },
        "id": "SxTTQONsy3oJ",
        "outputId": "158932cb-e44a-4389-c97f-bf92c61e08d8"
      },
      "execution_count": 2,
      "outputs": [
        {
          "output_type": "stream",
          "name": "stdout",
          "text": [
            "False <class 'bool'>\n"
          ]
        }
      ]
    },
    {
      "cell_type": "markdown",
      "source": [
        "2. What are the three different types of Boolean operators?\n",
        "\n",
        "Ans: The three different types of boolean operators are and, or, not\n"
      ],
      "metadata": {
        "id": "WFxlFNYBzBNB"
      }
    },
    {
      "cell_type": "code",
      "source": [
        "a = 50\n",
        "b = 150\n",
        "print(a > 40 and b > 100)\n"
      ],
      "metadata": {
        "colab": {
          "base_uri": "https://localhost:8080/"
        },
        "id": "3YxZ0NTbzaHs",
        "outputId": "76254366-9f07-4e16-8a68-2fe3aabcbc93"
      },
      "execution_count": 4,
      "outputs": [
        {
          "output_type": "stream",
          "name": "stdout",
          "text": [
            "True\n"
          ]
        }
      ]
    },
    {
      "cell_type": "code",
      "source": [
        "print(a > 100 or b > 100)"
      ],
      "metadata": {
        "colab": {
          "base_uri": "https://localhost:8080/"
        },
        "id": "1p8kfmduzq1d",
        "outputId": "8ebe5a19-8db9-4588-a76a-018a7ee983fd"
      },
      "execution_count": 5,
      "outputs": [
        {
          "output_type": "stream",
          "name": "stdout",
          "text": [
            "True\n"
          ]
        }
      ]
    },
    {
      "cell_type": "code",
      "source": [
        "print(not(a>10))"
      ],
      "metadata": {
        "colab": {
          "base_uri": "https://localhost:8080/"
        },
        "id": "PEcZBclT0FON",
        "outputId": "255eb604-8a1d-4ec0-c21c-911989526e56"
      },
      "execution_count": 6,
      "outputs": [
        {
          "output_type": "stream",
          "name": "stdout",
          "text": [
            "False\n"
          ]
        }
      ]
    },
    {
      "cell_type": "markdown",
      "source": [
        "3. Make a list of each Boolean operator&#39;s truth tables (i.e. every possible combination of Boolean\n",
        "values for the operator and what it evaluate ).\n",
        "\n",
        "Ans: The truth tables for theboolean tables are as follows:\n",
        "Truth table for and operator:\n",
        "True and True is True\n",
        "\n",
        "True and False is False\n",
        "\n",
        "False and True is False\n",
        "\n",
        "False and False is False\n",
        "\n",
        "Truth table for or operator:\n",
        "True and True is True\n",
        "\n",
        "True and False is True\n",
        "\n",
        "False and True is True\n",
        "\n",
        "False and False is False\n",
        "\n",
        "Truth table for not operator:\n",
        "True not is False False not is True"
      ],
      "metadata": {
        "id": "ETE6d3Mf0QBV"
      }
    },
    {
      "cell_type": "markdown",
      "source": [
        "4. What are the values of the following expressions?\n",
        ".(5 > 4) and (3 == 5)\n",
        ".not (5 > 4)\n",
        ".(5 > 4) or (3 == 5)\n",
        ".not ((5 > 4) or (3 == 5))\n",
        ".(True and True) and (True == False)\n",
        ".(not False) or (not True).\n"
      ],
      "metadata": {
        "id": "iEH2mJGf1k8R"
      }
    },
    {
      "cell_type": "code",
      "source": [
        "print((5>4)and(3==5))"
      ],
      "metadata": {
        "colab": {
          "base_uri": "https://localhost:8080/"
        },
        "id": "x-enIYGa2SWx",
        "outputId": "b141d3a5-20be-43d8-d15b-8734eaacce4e"
      },
      "execution_count": 7,
      "outputs": [
        {
          "output_type": "stream",
          "name": "stdout",
          "text": [
            "False\n"
          ]
        }
      ]
    },
    {
      "cell_type": "code",
      "source": [
        "print((not(5>4)))"
      ],
      "metadata": {
        "colab": {
          "base_uri": "https://localhost:8080/"
        },
        "id": "aY0YTLZb2dXu",
        "outputId": "8d27e953-22b8-4131-ab83-ff61b57fa800"
      },
      "execution_count": 8,
      "outputs": [
        {
          "output_type": "stream",
          "name": "stdout",
          "text": [
            "False\n"
          ]
        }
      ]
    },
    {
      "cell_type": "code",
      "source": [
        "print((5>4)or(3==5))"
      ],
      "metadata": {
        "colab": {
          "base_uri": "https://localhost:8080/"
        },
        "id": "G-LPg7sq2jiV",
        "outputId": "4b9ea0b8-6b7b-4267-e30e-9eaa75fd5f96"
      },
      "execution_count": 9,
      "outputs": [
        {
          "output_type": "stream",
          "name": "stdout",
          "text": [
            "True\n"
          ]
        }
      ]
    },
    {
      "cell_type": "code",
      "source": [
        "print(not((5>4)or(3==5)))"
      ],
      "metadata": {
        "colab": {
          "base_uri": "https://localhost:8080/"
        },
        "id": "SOGiMdf_2tfc",
        "outputId": "2d8360ca-d1e7-47c6-fe36-c71b11686d77"
      },
      "execution_count": 10,
      "outputs": [
        {
          "output_type": "stream",
          "name": "stdout",
          "text": [
            "False\n"
          ]
        }
      ]
    },
    {
      "cell_type": "code",
      "source": [
        "print((True and True)and(True==False))"
      ],
      "metadata": {
        "colab": {
          "base_uri": "https://localhost:8080/"
        },
        "id": "LkyQyMfl23d_",
        "outputId": "4e4a8a8f-9fe3-4f68-ab3c-38a7a1fa295a"
      },
      "execution_count": 11,
      "outputs": [
        {
          "output_type": "stream",
          "name": "stdout",
          "text": [
            "False\n"
          ]
        }
      ]
    },
    {
      "cell_type": "code",
      "source": [
        "print((not False)or(not True))"
      ],
      "metadata": {
        "colab": {
          "base_uri": "https://localhost:8080/"
        },
        "id": "1JcXSIg63F8c",
        "outputId": "2cc4565d-a410-4b37-8d44-909e4ee150af"
      },
      "execution_count": 12,
      "outputs": [
        {
          "output_type": "stream",
          "name": "stdout",
          "text": [
            "True\n"
          ]
        }
      ]
    },
    {
      "cell_type": "markdown",
      "source": [
        "5. What are the six comparison operators?\n",
        "\n",
        "Ans: The six comparision operators are:==, !=, <, >, <=,>="
      ],
      "metadata": {
        "id": "4Tjl6Zlg3P3Z"
      }
    },
    {
      "cell_type": "markdown",
      "source": [
        "6. How do you tell the difference between the equal to and assignment operators?Describe a\n",
        "condition and when you would use one.\n",
        "\n",
        "Ans:== is the equal to operator to compress twovalues and evaluate to a boolean\n",
        "    \n",
        "    = is the assignment operator to store a value in variable"
      ],
      "metadata": {
        "id": "ZcRvnibg3rOJ"
      }
    },
    {
      "cell_type": "code",
      "source": [
        "a = 5\n",
        "if a == 5:\n",
        "  print(a == 5)"
      ],
      "metadata": {
        "colab": {
          "base_uri": "https://localhost:8080/"
        },
        "id": "Q8vVzVm24Oqk",
        "outputId": "8e0b01e0-59a6-463d-82d7-f9429b24b354"
      },
      "execution_count": 16,
      "outputs": [
        {
          "output_type": "stream",
          "name": "stdout",
          "text": [
            "True\n"
          ]
        }
      ]
    },
    {
      "cell_type": "markdown",
      "source": [
        "7. Identify the three blocks in this code:\n",
        "spam = 0\n",
        "if spam == 10:\n",
        "print('eggs')\n",
        "if spam > 5:\n",
        "print('bacon')\n",
        "else:\n",
        "print('ham')\n",
        "print('spam')\n",
        "print('spam')\n"
      ],
      "metadata": {
        "id": "X2R4ivlk4oXN"
      }
    },
    {
      "cell_type": "code",
      "source": [
        "spam = 0\n",
        "if spam == 10:\n",
        "  print('eggs')\n",
        "if spam > 5:\n",
        "  print('bacon')\n",
        "else:\n",
        "  print('ham')\n",
        "print('spam')\n",
        "print('spam')"
      ],
      "metadata": {
        "colab": {
          "base_uri": "https://localhost:8080/"
        },
        "id": "JWlccBJi5RzA",
        "outputId": "e5a12c0e-9256-40f8-fbf0-d0fb4120bcbe"
      },
      "execution_count": 18,
      "outputs": [
        {
          "output_type": "stream",
          "name": "stdout",
          "text": [
            "ham\n",
            "spam\n",
            "spam\n"
          ]
        }
      ]
    },
    {
      "cell_type": "markdown",
      "source": [
        "8. Write code that prints Hello if 1 is stored in spam, prints Howdy if 2 is stored in spam, and prints\n",
        "Greetings! if anything else is stored in spam."
      ],
      "metadata": {
        "id": "H_FH2EHN5ym2"
      }
    },
    {
      "cell_type": "code",
      "source": [
        "def spamCode(spam):\n",
        "  if spam==1:\n",
        "    print('Hello')\n",
        "  elif spam==2:\n",
        "    print('Howdy')\n",
        "  else:\n",
        "    print('Greetings')\n",
        "spamCode(1)\n",
        "spamCode(2)\n",
        "spamCode(3)\n"
      ],
      "metadata": {
        "colab": {
          "base_uri": "https://localhost:8080/"
        },
        "id": "GDL5LRRf5-pY",
        "outputId": "0519ae78-1dcc-4436-b5f5-21d463b43295"
      },
      "execution_count": 19,
      "outputs": [
        {
          "output_type": "stream",
          "name": "stdout",
          "text": [
            "Hello\n",
            "Howdy\n",
            "Greetings\n"
          ]
        }
      ]
    },
    {
      "cell_type": "markdown",
      "source": [],
      "metadata": {
        "id": "yqqI9UB61bWc"
      }
    }
  ]
}