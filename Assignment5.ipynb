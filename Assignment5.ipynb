{
  "nbformat": 4,
  "nbformat_minor": 0,
  "metadata": {
    "colab": {
      "provenance": []
    },
    "kernelspec": {
      "name": "python3",
      "display_name": "Python 3"
    },
    "language_info": {
      "name": "python"
    }
  },
  "cells": [
    {
      "cell_type": "markdown",
      "source": [
        "1. What does an empty dictionary&#39;s code look like?\n",
        "\n",
        "Ans: an empty dictionary is often represented by two empty curly brackets d = {}"
      ],
      "metadata": {
        "id": "nskjg94uZz6V"
      }
    },
    {
      "cell_type": "code",
      "source": [
        "d = {}\n",
        "print(d)"
      ],
      "metadata": {
        "colab": {
          "base_uri": "https://localhost:8080/"
        },
        "id": "Wc-l54eDac4l",
        "outputId": "de5ec4f1-2475-47c5-fbfa-c0612720a386"
      },
      "execution_count": 1,
      "outputs": [
        {
          "output_type": "stream",
          "name": "stdout",
          "text": [
            "{}\n"
          ]
        }
      ]
    },
    {
      "cell_type": "markdown",
      "source": [
        "2. What is the value of a dictionary value with the key &#39;foo&#39; and the value 42?\n"
      ],
      "metadata": {
        "id": "X7Qdr1LQamt7"
      }
    },
    {
      "cell_type": "code",
      "source": [
        "dict = {'foo':42}\n",
        "print(dict)"
      ],
      "metadata": {
        "colab": {
          "base_uri": "https://localhost:8080/"
        },
        "id": "z0s56n7Oa2F_",
        "outputId": "889e3a07-c41a-4516-b307-c0f16a147910"
      },
      "execution_count": 2,
      "outputs": [
        {
          "output_type": "stream",
          "name": "stdout",
          "text": [
            "{'foo': 42}\n"
          ]
        }
      ]
    },
    {
      "cell_type": "markdown",
      "source": [
        "3. What is the most significant distinction between a dictionary and a list?\n",
        "\n",
        "Ans: dictionaries are represented by using{}\n",
        "where as list are represented by using []. Items that are present in list are ordered where items present in dictionaries are unoredered"
      ],
      "metadata": {
        "id": "le0kbaKUbBni"
      }
    },
    {
      "cell_type": "markdown",
      "source": [
        "4. What happens if you try to access spam['foo'] if spam is {'bar': 100}?\n",
        "\n",
        "Ans: we will get a keyerror"
      ],
      "metadata": {
        "id": "D39dsLXNeBo3"
      }
    },
    {
      "cell_type": "code",
      "source": [
        "spam = {'bar':100}\n",
        "print(spam['foo'])"
      ],
      "metadata": {
        "colab": {
          "base_uri": "https://localhost:8080/",
          "height": 182
        },
        "id": "BIV9KXQEea3o",
        "outputId": "d9a2aee9-4565-465b-dac9-5c9b8730e316"
      },
      "execution_count": 3,
      "outputs": [
        {
          "output_type": "error",
          "ename": "KeyError",
          "evalue": "ignored",
          "traceback": [
            "\u001b[0;31m---------------------------------------------------------------------------\u001b[0m",
            "\u001b[0;31mKeyError\u001b[0m                                  Traceback (most recent call last)",
            "\u001b[0;32m<ipython-input-3-76189a2aa494>\u001b[0m in \u001b[0;36m<cell line: 2>\u001b[0;34m()\u001b[0m\n\u001b[1;32m      1\u001b[0m \u001b[0mspam\u001b[0m \u001b[0;34m=\u001b[0m \u001b[0;34m{\u001b[0m\u001b[0;34m'bar'\u001b[0m\u001b[0;34m:\u001b[0m\u001b[0;36m100\u001b[0m\u001b[0;34m}\u001b[0m\u001b[0;34m\u001b[0m\u001b[0;34m\u001b[0m\u001b[0m\n\u001b[0;32m----> 2\u001b[0;31m \u001b[0mprint\u001b[0m\u001b[0;34m(\u001b[0m\u001b[0mspam\u001b[0m\u001b[0;34m[\u001b[0m\u001b[0;34m'foo'\u001b[0m\u001b[0;34m]\u001b[0m\u001b[0;34m)\u001b[0m\u001b[0;34m\u001b[0m\u001b[0;34m\u001b[0m\u001b[0m\n\u001b[0m",
            "\u001b[0;31mKeyError\u001b[0m: 'foo'"
          ]
        }
      ]
    },
    {
      "cell_type": "markdown",
      "source": [
        "5. If a dictionary is stored in spam, what is the difference between the expressions 'cat' in spam and\n",
        "'cat'in spam.keys()?\n",
        "\n",
        "Ans: there is no difference the operators checks wether a value exist as a key in a dictionary or not"
      ],
      "metadata": {
        "id": "K3HaeuNDelq1"
      }
    },
    {
      "cell_type": "markdown",
      "source": [
        "6. If a dictionary is stored in spam, what is the difference between the expressions 'cat'in spam and\n",
        "'cat' in spam.values()?\n",
        "\n",
        "Ans: 'cat' in spam checks whether there is a 'cat' key in the dictionary while 'cat' in spam.values() checks whether there is a value 'cat' for one of the keys in spam"
      ],
      "metadata": {
        "id": "rSKQsBlLfA9Y"
      }
    },
    {
      "cell_type": "markdown",
      "source": [
        "7. What is a shortcut for the following code?\n",
        "if 'color' not in spam:\n",
        "spam['color'] = 'black'"
      ],
      "metadata": {
        "id": "j4QXm_Tifw5Q"
      }
    },
    {
      "cell_type": "code",
      "source": [
        "spam.setdefault('color','black')"
      ],
      "metadata": {
        "colab": {
          "base_uri": "https://localhost:8080/",
          "height": 36
        },
        "id": "8iggybTOgEJt",
        "outputId": "d87fe8e2-540c-4bda-bfdc-95e856cb4399"
      },
      "execution_count": 4,
      "outputs": [
        {
          "output_type": "execute_result",
          "data": {
            "text/plain": [
              "'black'"
            ],
            "application/vnd.google.colaboratory.intrinsic+json": {
              "type": "string"
            }
          },
          "metadata": {},
          "execution_count": 4
        }
      ]
    },
    {
      "cell_type": "markdown",
      "source": [
        "8. How do you \"pretty print\" dictionary values using which module and function?\n",
        "\n",
        "Ans: we can pretty print a dictionary using three functions\n",
        ". By using pprint() function of pprint mdule\n",
        "\n",
        ". By using dumps() method of json module\n",
        "\n",
        ". By using dumps() method of yaml module\n"
      ],
      "metadata": {
        "id": "nKv-aV_AgRTv"
      }
    }
  ]
}