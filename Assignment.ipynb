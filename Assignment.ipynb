{
  "nbformat": 4,
  "nbformat_minor": 0,
  "metadata": {
    "colab": {
      "provenance": []
    },
    "kernelspec": {
      "name": "python3",
      "display_name": "Python 3"
    },
    "language_info": {
      "name": "python"
    }
  },
  "cells": [
    {
      "cell_type": "markdown",
      "source": [
        "1. What is the role of try and exception block?\n",
        "\n",
        "Ans: The try block lets you test a block of code for errors. The except block lets you handle the error."
      ],
      "metadata": {
        "id": "5uDH5G-IL5op"
      }
    },
    {
      "cell_type": "code",
      "source": [
        "try:\n",
        "\n",
        "    even_numbers = [2,4,6,8]\n",
        "    print(even_numbers[5])\n",
        "\n",
        "except ZeroDivisionError:\n",
        "    print(\"Denominator cannot be 0.\")\n",
        "except IndexError:\n",
        "    print(\"Index Out of Bound.\")"
      ],
      "metadata": {
        "colab": {
          "base_uri": "https://localhost:8080/"
        },
        "id": "CH_FSxB9MDHC",
        "outputId": "90d965b2-1940-4b30-c3ad-5c90b8efd45b"
      },
      "execution_count": 3,
      "outputs": [
        {
          "output_type": "stream",
          "name": "stdout",
          "text": [
            "Index Out of Bound.\n"
          ]
        }
      ]
    },
    {
      "cell_type": "markdown",
      "source": [
        "2. What is the syntax for a basic try-except block?\n",
        "\n",
        "Ans: The try...except block is used to handle exceptions in Python. Here's the syntax of try...except block:\n",
        "\n",
        "try:\n",
        "    # code that may cause exception\n",
        "except:\n",
        "    # code to run when exception occurs"
      ],
      "metadata": {
        "id": "jYY5Et31MdQj"
      }
    },
    {
      "cell_type": "markdown",
      "source": [
        "3. What happens if an exception occurs inside a try block and there is no matching\n",
        "except block?\n",
        "\n",
        "Ans:If any exception occurs, the try clause will be skipped and except clause will run. If any exception occurs, but the except clause within the code doesn't handle it, it is passed on to the outer try statements. If the exception is left unhandled, then the execution stops"
      ],
      "metadata": {
        "id": "5UBMGNtlNmz1"
      }
    },
    {
      "cell_type": "markdown",
      "source": [
        "4. What is the difference between using a bare except block and specifying a specific\n",
        "exception type?\n",
        "\n",
        "Ans: A bare except is a  SystemExit and KeyboardInterrupt exceptions, making it harder to interrupt a program . The point of specifying the Exception is that ONLY that Exception will be caught, if you do not specify any Exception, then ALL Errors and Exceptions will be caught potentially masking bugs."
      ],
      "metadata": {
        "id": "jx2ldo4yN7l_"
      }
    },
    {
      "cell_type": "markdown",
      "source": [
        "5 . Can you have nested try-except blocks in Python? If yes, then give an example.\n",
        "\n",
        "Ans: We can have nested try-except blocks in Python. In this case, if an exception is raised in the nested try block, the nested except block is used to handle it. In case the nested except is not able to handle it, the outer except blocks are used to handle the exception"
      ],
      "metadata": {
        "id": "EGFom3S9QMWl"
      }
    },
    {
      "cell_type": "code",
      "source": [
        "try:\n",
        "    print(\"outer try block\")\n",
        "    try:\n",
        "        print(\"Inner try block\")\n",
        "        print(10 / 0)\n",
        "    except ZeroDivisionError:\n",
        "        print(\"Inner except block\")\n",
        "    finally:\n",
        "        print(\"Inner finally block\")\n",
        "except:\n",
        "    print(\"outer except block\")\n",
        "finally:\n",
        "    print(\"outer finally block\")"
      ],
      "metadata": {
        "colab": {
          "base_uri": "https://localhost:8080/"
        },
        "id": "g-rQ5Ab2Qbdy",
        "outputId": "724a39ee-5cc6-4d74-a66e-3cea76ca230c"
      },
      "execution_count": 7,
      "outputs": [
        {
          "output_type": "stream",
          "name": "stdout",
          "text": [
            "outer try block\n",
            "Inner try block\n",
            "Inner except block\n",
            "Inner finally block\n",
            "outer finally block\n"
          ]
        }
      ]
    },
    {
      "cell_type": "markdown",
      "source": [
        "6. Can we use multiple exception blocks, if yes then give an example.\n",
        "\n"
      ],
      "metadata": {
        "id": "U54tF9VzQ88P"
      }
    },
    {
      "cell_type": "code",
      "source": [
        "mylist = [-1, 2, 0, 4]\n",
        "for i in mylist:\n",
        "    try:\n",
        "\n",
        "        print(\"thedivision is:\", 10/i)\n",
        "\n",
        "    except:\n",
        "\n",
        "        print(\"Error occurs while dividing\")"
      ],
      "metadata": {
        "colab": {
          "base_uri": "https://localhost:8080/"
        },
        "id": "JibdrbkdRCZ8",
        "outputId": "4016eb36-f686-4824-caab-7fbf4e2f4047"
      },
      "execution_count": 8,
      "outputs": [
        {
          "output_type": "stream",
          "name": "stdout",
          "text": [
            "thedivision is: -10.0\n",
            "thedivision is: 5.0\n",
            "Error occurs while dividing\n",
            "thedivision is: 2.5\n"
          ]
        }
      ]
    },
    {
      "cell_type": "markdown",
      "source": [
        "7. Write the reason due to which following errors are raised:\n",
        "a. EOFError\n",
        "b. FloatingPointError\n",
        "c. IndexError\n",
        "d. MemoryError\n",
        "e. OverflowError\n",
        "f. TabError\n",
        "g. ValueError\n",
        "\n",
        "Ans: EOFError : when you try to read beyond the end of a file\n",
        "\n",
        "FloatingPointError: when a calculation involving floating point numbers results in an invalid value\n",
        "\n",
        "IndexError: IndexError is raised when the wrong index of a list is used.\n",
        "\n",
        "MemoryError: when a program runs out of memory.\n",
        "\n",
        "OverflowError:  when a calculation exceeds the maximum limit for a numeric type. It usually occurs when the number is too large to be represented within the available memory.\n",
        "\n",
        "TabError: when indentation is not correct\n",
        "\n",
        "ValueError: an error that occurs when a programmer using the Python programming language (PPL) passes a function an erroneous value even though it is an acceptable argument\n",
        "\n",
        "\n",
        "\n",
        "\n",
        "\n",
        "\n",
        "\n",
        "\n",
        "\n",
        "\n",
        "\n",
        "\n"
      ],
      "metadata": {
        "id": "km_DQjztRsRR"
      }
    },
    {
      "cell_type": "markdown",
      "source": [
        "8. Write code for the following given scenario and add try-exception block to it.\n",
        "a. Program to divide two numbers\n",
        "b. Program to convert a string to an integer\n",
        "c. Program to access an element in a list\n",
        "d. Program to handle a specific exception\n",
        "e. Program to handle any exception"
      ],
      "metadata": {
        "id": "gbbeRy0VVwpQ"
      }
    },
    {
      "cell_type": "code",
      "source": [
        "# division of two numbers\n",
        "n=int(input(\"Enter the value of n:\"))\n",
        "d=int(input(\"Enter the value of d:\"))\n",
        "try:\n",
        "  q = n / d\n",
        "  print(\"quotient is:\", q)\n",
        "except ZeroDivisionError:\n",
        "    print(\"Division by Zero!\")"
      ],
      "metadata": {
        "colab": {
          "base_uri": "https://localhost:8080/"
        },
        "id": "ccORTgKXV06F",
        "outputId": "dada9d3e-7249-479d-dbb3-8356f6b0b9fc"
      },
      "execution_count": 9,
      "outputs": [
        {
          "output_type": "stream",
          "name": "stdout",
          "text": [
            "Enter the value of n:25\n",
            "Enter the value of d:7\n",
            "quotient is: 3.5714285714285716\n"
          ]
        }
      ]
    },
    {
      "cell_type": "code",
      "source": [
        "# converting string to an integer\n",
        "strObj = \"2008\"\n",
        "try:\n",
        "    result = int(strObj)\n",
        "except ValueError:\n",
        "    result = 0\n",
        "print(result)\n"
      ],
      "metadata": {
        "colab": {
          "base_uri": "https://localhost:8080/"
        },
        "id": "aC6bKBbyWr_k",
        "outputId": "ee117a1f-77eb-4dd7-873e-8d9a9bbd6b37"
      },
      "execution_count": 10,
      "outputs": [
        {
          "output_type": "stream",
          "name": "stdout",
          "text": [
            "2008\n"
          ]
        }
      ]
    },
    {
      "cell_type": "code",
      "source": [
        "# To access an element in list\n",
        "test_list = [10,20,30,40,50]\n",
        "print('the original list is:' + str(test_list))\n",
        "try :\n",
        "    test_list.index(10)\n",
        "    res = \"Element found\"\n",
        "except ValueError :\n",
        "    res = \"Element not in list !\"\n",
        "\n",
        "print(\"The value after catching error : \" + str(res))\n"
      ],
      "metadata": {
        "colab": {
          "base_uri": "https://localhost:8080/"
        },
        "id": "DQBL8MuQXKI3",
        "outputId": "4861ffc8-d090-4de1-8beb-8eea978415f8"
      },
      "execution_count": 22,
      "outputs": [
        {
          "output_type": "stream",
          "name": "stdout",
          "text": [
            "the original list is:[10, 20, 30, 40, 50]\n",
            "The value after catching error : Element found\n"
          ]
        }
      ]
    },
    {
      "cell_type": "code",
      "source": [
        "# program to handle specific exception\n",
        "try:\n",
        "\n",
        "    even_numbers = [2,4,6,8,10,12,14]\n",
        "    print(even_numbers[5])\n",
        "\n",
        "except ZeroDivisionError:\n",
        "    print(\"Denominator cannot be 0.\")\n",
        "\n",
        "except IndexError:\n",
        "    print(\"Index Out of Bound.\")"
      ],
      "metadata": {
        "colab": {
          "base_uri": "https://localhost:8080/"
        },
        "id": "oOfyxujSaGNH",
        "outputId": "3b4a2eb0-7a20-4a2d-948f-7838e3da9522"
      },
      "execution_count": 23,
      "outputs": [
        {
          "output_type": "stream",
          "name": "stdout",
          "text": [
            "12\n"
          ]
        }
      ]
    },
    {
      "cell_type": "code",
      "source": [
        "# program to handle any exception\n",
        "try:\n",
        "    numerator = 10\n",
        "    denominator = 0\n",
        "\n",
        "    result = numerator/denominator\n",
        "\n",
        "    print(result)\n",
        "except:\n",
        "    print(\"Error: Denominator cannot be 0.\")\n"
      ],
      "metadata": {
        "colab": {
          "base_uri": "https://localhost:8080/"
        },
        "id": "EgbLxzhobBLd",
        "outputId": "11cc47f3-e1dd-435c-a18c-acc5ebfb1d0b"
      },
      "execution_count": 24,
      "outputs": [
        {
          "output_type": "stream",
          "name": "stdout",
          "text": [
            "Error: Denominator cannot be 0.\n"
          ]
        }
      ]
    }
  ]
}